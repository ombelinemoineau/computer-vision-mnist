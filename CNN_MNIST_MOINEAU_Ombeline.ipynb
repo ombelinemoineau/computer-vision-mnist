{
  "nbformat": 4,
  "nbformat_minor": 0,
  "metadata": {
    "colab": {
      "provenance": []
    },
    "kernelspec": {
      "name": "python3",
      "display_name": "Python 3"
    },
    "language_info": {
      "name": "python"
    },
    "accelerator": "GPU",
    "gpuClass": "standard"
  },
  "cells": [
    {
      "cell_type": "markdown",
      "source": [
        "# Convolutional Neural Network for handwritten digits recognition"
      ],
      "metadata": {
        "id": "PEK3BqruDY1j"
      }
    },
    {
      "cell_type": "markdown",
      "source": [
        "**Question 3 :** Bien analyser la structuration du script qui est assez standard et que vous retrouverez dans la suite des expérimentations. Attacher une importance particulière à la structuration des tableaux de données qui servent à l'apprentissage."
      ],
      "metadata": {
        "id": "zH0RzAYl8L0A"
      }
    },
    {
      "cell_type": "markdown",
      "source": [
        "**Chargement des dépendances**"
      ],
      "metadata": {
        "id": "P7Mpe24-EB83"
      }
    },
    {
      "cell_type": "code",
      "execution_count": null,
      "metadata": {
        "colab": {
          "base_uri": "https://localhost:8080/"
        },
        "id": "C6CxfeF4DO6k",
        "outputId": "f0f7af84-541b-40e1-93c5-4b04a36c6a3f"
      },
      "outputs": [
        {
          "output_type": "stream",
          "name": "stdout",
          "text": [
            "Mounted at /content/drive\n"
          ]
        }
      ],
      "source": [
        "import tensorflow\n",
        "import tensorflow.compat.v1 as tf\n",
        "tf.disable_v2_behavior()\n",
        "import numpy as np\n",
        "import cv2\n",
        "import matplotlib\n",
        "import matplotlib.pyplot as plt\n",
        "from google.colab.patches import cv2_imshow\n",
        "from google.colab import drive\n",
        "drive.mount('/content/drive', force_remount=True)"
      ]
    },
    {
      "cell_type": "markdown",
      "source": [
        "**Chargement du dataset**"
      ],
      "metadata": {
        "id": "9BhaVPejEdUt"
      }
    },
    {
      "cell_type": "code",
      "source": [
        "train_images=np.fromfile(\"dataset/mnist/train-images.idx3-ubyte\", dtype=np.uint8)[16:].reshape(-1, 28, 28, 1)/255\n",
        "train_labels=np.eye(10)[np.fromfile(\"dataset/mnist/train-labels.idx1-ubyte\", dtype=np.uint8)[8:]]\n",
        "test_images=np.fromfile(\"dataset/mnist/t10k-images.idx3-ubyte\", dtype=np.uint8)[16:].reshape(-1, 28, 28, 1)/255\n",
        "test_labels=np.eye(10)[np.fromfile(\"dataset/mnist/t10k-labels.idx1-ubyte\", dtype=np.uint8)[8:]]"
      ],
      "metadata": {
        "id": "j4h8jCmDFTG5"
      },
      "execution_count": null,
      "outputs": []
    },
    {
      "cell_type": "markdown",
      "source": [
        "**Architecture du réseau neuronal**"
      ],
      "metadata": {
        "id": "WlRfFaQsEy-O"
      }
    },
    {
      "cell_type": "markdown",
      "source": [
        "Schéma de l'architecture du réseau convolutif : couche_prec -- x w --> result_conv --> + b --> result"
      ],
      "metadata": {
        "id": "3gOhtIZCC20-"
      }
    },
    {
      "cell_type": "markdown",
      "source": [
        "**Définition des fonctions de normalisation, convolution, matmul :**"
      ],
      "metadata": {
        "id": "oC1zbH6ADjI7"
      }
    },
    {
      "cell_type": "code",
      "source": [
        "def normalisation(couche_prec):\n",
        "    mean, var=tf.nn.moments(couche_prec, [0])\n",
        "    scale=tf.Variable(tf.ones(shape=(np.shape(couche_prec)[-1])))\n",
        "    beta=tf.Variable(tf.zeros(shape=(np.shape(couche_prec)[-1])))\n",
        "    result=tf.nn.batch_normalization(couche_prec, mean, var, beta, scale, 0.001)\n",
        "    return result"
      ],
      "metadata": {
        "id": "fRIxWqTX5Lqc"
      },
      "execution_count": null,
      "outputs": []
    },
    {
      "cell_type": "code",
      "source": [
        "def convolution(couche_prec, taille_noyau, nbr_noyau):\n",
        "    w=tf.Variable(tf.random.truncated_normal(shape=(taille_noyau, taille_noyau, int(couche_prec.get_shape()[-1]), nbr_noyau)))\n",
        "    b=np.zeros(nbr_noyau)\n",
        "    result=tf.nn.conv2d(couche_prec, w, strides=[1, 1, 1, 1], padding='SAME')+b\n",
        "    return result"
      ],
      "metadata": {
        "id": "lJkeuSZI5NmX"
      },
      "execution_count": null,
      "outputs": []
    },
    {
      "cell_type": "code",
      "source": [
        "# Fonction pour ajouter une couche\n",
        "def fc1(couche_prec, nbr_neurone):\n",
        "    w=tf.Variable(tf.random.truncated_normal(shape=(int(couche_prec.get_shape()[-1]), nbr_neurone), dtype=tf.float32))\n",
        "    b=tf.Variable(np.zeros(shape=(nbr_neurone)), dtype=tf.float32)\n",
        "    result=tf.matmul(couche_prec, w)+b\n",
        "    return result"
      ],
      "metadata": {
        "id": "fbJx9kna5QG7"
      },
      "execution_count": null,
      "outputs": []
    },
    {
      "cell_type": "code",
      "source": [
        "# Paramètres du réseau\n",
        "learning_rate=0.001\n",
        "taille_batch=100\n",
        "epoch_nbr=20\n",
        "\n",
        "# Ces 2 placeholders représentent les endroits où seront placés l'image d'entrée et le résultat du réseau\n",
        "ph_images=tf.placeholder(shape=(None, 28, 28, 1), dtype=tf.float32)\n",
        "ph_labels=tf.placeholder(shape=(None, 10), dtype=tf.float32)"
      ],
      "metadata": {
        "id": "UaZBWz2LE5pS"
      },
      "execution_count": null,
      "outputs": []
    },
    {
      "cell_type": "code",
      "source": [
        "# 1ère couche\n",
        "result=convolution(ph_images, 5, 16)\n",
        "result=normalisation(result)\n",
        "result=tf.nn.relu(result) # Relu\n",
        "\n",
        "# 2ème couche\n",
        "result=convolution(result, 5, 16)\n",
        "result=normalisation(result)\n",
        "result=tf.nn.relu(result) # Relu\n",
        "result=tf.nn.max_pool(result, ksize=[1, 2, 2, 1], strides=[1, 2, 2, 1], padding='SAME') # Pooling\n",
        "\n",
        "# 3ème couche\n",
        "result=convolution(result, 5, 32)\n",
        "result=normalisation(result)\n",
        "result=tf.nn.relu(result)\n",
        "\n",
        "# 4ème couche\n",
        "result=convolution(result, 5, 32)\n",
        "result=normalisation(result)\n",
        "result=tf.nn.relu(result)\n",
        "result=tf.nn.max_pool(result, ksize=[1, 2, 2, 1], strides=[1, 2, 2, 1], padding='SAME')\n",
        "\n",
        "# On applati le résultat de la dernière couche\n",
        "result=tf.layers.flatten(result)\n",
        "# Couche connectée à une couche fc1 de 512 neurones\n",
        "result=fc1(result, 512)\n",
        "result=normalisation(result)\n",
        "# Neurones activés par une fonction sigmoid\n",
        "result=tf.nn.sigmoid(result)\n",
        "# Couche connectée à une couche fc2 de 10 neurones\n",
        "result=fc1(result, 10)\n",
        "\n",
        "scso=tf.nn.softmax(result,name='sortie')\n",
        "\n",
        "# Fonctions de loss, apprentissage et métrique de précision\n",
        "loss=tf.nn.softmax_cross_entropy_with_logits_v2(labels=ph_labels, logits=result)\n",
        "train=tf.train.AdamOptimizer(learning_rate).minimize(loss)\n",
        "#train=tf.train.GradientDescentOptimizer(learning_rate).minimize(loss)\n",
        "accuracy=tf.reduce_mean(tf.cast(tf.equal(tf.argmax(scso, 1), tf.argmax(ph_labels, 1)), tf.float32))\n",
        "\n",
        "# Instanciation de la classe sauvegarde\n",
        "saver=tf.train.Saver()"
      ],
      "metadata": {
        "colab": {
          "base_uri": "https://localhost:8080/"
        },
        "id": "YO25f-lK5jPq",
        "outputId": "0ca1613c-93ec-4f54-cfb2-36efb5dac9d8"
      },
      "execution_count": null,
      "outputs": [
        {
          "output_type": "stream",
          "name": "stderr",
          "text": [
            "<ipython-input-33-deb10baf7099>:24: UserWarning: `tf.layers.flatten` is deprecated and will be removed in a future version. Please use `tf.keras.layers.Flatten` instead.\n",
            "  result=tf.layers.flatten(result)\n"
          ]
        }
      ]
    },
    {
      "cell_type": "code",
      "source": [
        "# Cette session regroupe les différentes itérations d'apprentissage et les prédictions sur la base de test :\n",
        "# Fonction qui entraînera notre modèle\n",
        "with tf.Session() as s:\n",
        "\n",
        "    # Initialisation des variables\n",
        "    s.run(tf.global_variables_initializer())\n",
        "\n",
        "    tab_acc_train=[]\n",
        "    tab_acc_test=[]\n",
        "\n",
        "    for id_entrainement in range(epoch_nbr):\n",
        "        print(\"ID entrainement\", id_entrainement)\n",
        "        for batch in range(0, len(train_images), taille_batch):\n",
        "            # lancement de l'apprentissage en passant la commande \"train\". feed_dict est l'option désignant ce qui est\n",
        "            # placé dans les placeholders\n",
        "            s.run(train, feed_dict={\n",
        "                ph_images: train_images[batch:batch+taille_batch],\n",
        "                ph_labels: train_labels[batch:batch+taille_batch]\n",
        "            })\n",
        "\n",
        "        # Prédiction du modèle sur les batchs du dataset de training\n",
        "        tab_acc=[]\n",
        "        for batch in range(0, len(train_images), taille_batch):\n",
        "            # lancement de la prédiction en passant la commande \"accuracy\". feed_dict est l'option désignant ce qui est\n",
        "            # placé dans les placeholders\n",
        "            acc=s.run(accuracy, feed_dict={\n",
        "                ph_images: train_images[batch:batch+taille_batch],\n",
        "                ph_labels: train_labels[batch:batch+taille_batch]\n",
        "            })\n",
        "            # création le tableau des accuracies\n",
        "            tab_acc.append(acc)\n",
        "\n",
        "        # calcul de la moyenne des accuracies\n",
        "        print(\"accuracy train:\", np.mean(tab_acc))\n",
        "        tab_acc_train.append(1-np.mean(tab_acc))\n",
        "\n",
        "        # Prédiction du modèle sur les batchs du dataset de test\n",
        "        tab_acc=[]\n",
        "        for batch in range(0, len(test_images), taille_batch):\n",
        "            acc=s.run(accuracy, feed_dict={\n",
        "                ph_images: test_images[batch:batch+taille_batch],\n",
        "                ph_labels: test_labels[batch:batch+taille_batch]\n",
        "            })\n",
        "            tab_acc.append(acc)\n",
        "        print(\"accuracy test :\", np.mean(tab_acc))\n",
        "        tab_acc_test.append(1-np.mean(tab_acc))\n",
        "        # sauvegarde du réseau\n",
        "        saver.save(s,\"model_mnist\")\n",
        "\n",
        "        resulat=s.run(scso, feed_dict={ph_images: test_images[0:taille_batch]})\n",
        "        # Dernière ligne applique de modèle obtenu sur un batch d'images de test. Le résultat sera ensuite affiché (courbe et décision)."
      ],
      "metadata": {
        "colab": {
          "base_uri": "https://localhost:8080/"
        },
        "id": "BTwbeDafOL6i",
        "outputId": "85a72fab-ab43-4887-cf1a-7cbde6891079"
      },
      "execution_count": null,
      "outputs": [
        {
          "output_type": "stream",
          "name": "stdout",
          "text": [
            "ID entrainement 0\n",
            "accuracy train: 0.94553334\n",
            "accuracy test : 0.9345\n",
            "ID entrainement 1\n",
            "accuracy train: 0.9703833\n",
            "accuracy test : 0.95579994\n",
            "ID entrainement 2\n",
            "accuracy train: 0.98118335\n",
            "accuracy test : 0.9642999\n",
            "ID entrainement 3\n",
            "accuracy train: 0.98698336\n",
            "accuracy test : 0.96669996\n",
            "ID entrainement 4\n",
            "accuracy train: 0.99113333\n",
            "accuracy test : 0.96830004\n",
            "ID entrainement 5\n",
            "accuracy train: 0.9930168\n",
            "accuracy test : 0.96800005\n",
            "ID entrainement 6\n",
            "accuracy train: 0.9959334\n",
            "accuracy test : 0.9694001\n",
            "ID entrainement 7\n",
            "accuracy train: 0.9977666\n",
            "accuracy test : 0.9707001\n",
            "ID entrainement 8\n",
            "accuracy train: 0.99884987\n",
            "accuracy test : 0.9722001\n",
            "ID entrainement 9\n",
            "accuracy train: 0.9994334\n",
            "accuracy test : 0.9735001\n",
            "ID entrainement 10\n",
            "accuracy train: 0.99966675\n",
            "accuracy test : 0.97450006\n",
            "ID entrainement 11\n",
            "accuracy train: 0.9998167\n",
            "accuracy test : 0.97560006\n",
            "ID entrainement 12\n",
            "accuracy train: 0.9999166\n",
            "accuracy test : 0.9763001\n",
            "ID entrainement 13\n",
            "accuracy train: 0.9999666\n",
            "accuracy test : 0.9772001\n",
            "ID entrainement 14\n",
            "accuracy train: 0.9999833\n",
            "accuracy test : 0.97700006\n",
            "ID entrainement 15\n",
            "accuracy train: 1.0\n",
            "accuracy test : 0.9777\n",
            "ID entrainement 16\n",
            "accuracy train: 1.0\n",
            "accuracy test : 0.9778\n",
            "ID entrainement 17\n",
            "accuracy train: 1.0\n",
            "accuracy test : 0.9781\n",
            "ID entrainement 18\n",
            "accuracy train: 1.0\n",
            "accuracy test : 0.9784\n",
            "ID entrainement 19\n",
            "accuracy train: 1.0\n",
            "accuracy test : 0.9785\n"
          ]
        }
      ]
    },
    {
      "cell_type": "markdown",
      "source": [
        "**Affichage de l'évolution des erreurs réalisées par notre modèle au cours des itérations**"
      ],
      "metadata": {
        "id": "hD2Z5wkT2COO"
      }
    },
    {
      "cell_type": "code",
      "source": [
        "plt.ylim(0, 0.1)\n",
        "plt.grid()\n",
        "plt.plot(tab_acc_train, label=\"Train error\")\n",
        "plt.plot(tab_acc_test, label=\"Test error\")\n",
        "plt.legend(loc=\"upper right\")\n",
        "plt.title(\"Evolution du nombre d'erreurs avec l'algorithme de Adam\" )\n",
        "plt.show()"
      ],
      "metadata": {
        "colab": {
          "base_uri": "https://localhost:8080/",
          "height": 281
        },
        "id": "np2rC4LK2CwT",
        "outputId": "60e23b1a-2b87-485a-ff70-d62bf2ca6359"
      },
      "execution_count": null,
      "outputs": [
        {
          "output_type": "display_data",
          "data": {
            "text/plain": [
              "<Figure size 432x288 with 1 Axes>"
            ],
            "image/png": "[encoded data removed]"
          },
          "metadata": {
            "needs_background": "light"
          }
        }
      ]
    },
    {
      "cell_type": "markdown",
      "source": [
        "![Capture d’écran 2023-01-27 à 17.23.27.png](data:image/png;base64,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)"
      ],
      "metadata": {
        "id": "hOXTUszgCxpv"
      }
    },
    {
      "cell_type": "markdown",
      "source": [
        "**Question 4 :** Vous comparerez les performances du modèle obtenu avec l'une et l'autre méthode d'optimisation. Par ailleurs, vous observerez comment varie les courbes de performance. Pour cette cette dernère observation, vous pourrez augmenter le nombre d'époch.\n",
        "\n",
        "Lorsqu'on compare ces deux algorithmes, on observe que l'algorithme d'Adam est plus performant que l'algorithme de Descente du Gradient."
      ],
      "metadata": {
        "id": "jChN63FpBRgj"
      }
    },
    {
      "cell_type": "markdown",
      "source": [
        "**Affichage du résultat obtenu pour chaque image test du batch**"
      ],
      "metadata": {
        "id": "Ic7xQDkB2Vai"
      }
    },
    {
      "cell_type": "code",
      "source": [
        "np.set_printoptions(formatter={'float': '{:0.3f}'.format})\n",
        "for image in range(taille_batch):\n",
        "     print(\"image\", image)\n",
        "     print(\"sortie du réseau:\", resulat[image], np.argmax(resulat[image]))\n",
        "     print(\"sortie attendue :\", test_labels[image], np.argmax(test_labels[image]))\n",
        "     cv2_imshow(test_images[image].reshape(28, 28))\n",
        "     if cv2.waitKey()&0xFF==ord('q'):\n",
        "         break"
      ],
      "metadata": {
        "colab": {
          "base_uri": "https://localhost:8080/",
          "height": 1000
        },
        "id": "e7cRGRMC2Fwj",
        "outputId": "6183ce0d-4279-4312-8bed-bf9c475b3719"
      },
      "execution_count": null,
      "outputs": [
        {
          "output_type": "stream",
          "name": "stdout",
          "text": [
            "image 0\n",
            "sortie du réseau: [0.000 0.000 0.000 0.000 0.000 0.000 0.000 1.000 0.000 0.000] 7\n",
            "sortie attendue : [0.000 0.000 0.000 0.000 0.000 0.000 0.000 1.000 0.000 0.000] 7\n"
          ]
        },
        {
          "output_type": "display_data",
          "data": {
            "text/plain": [
              "<PIL.Image.Image image mode=L size=28x28 at 0x7F6F3E3DD520>"
            ],
            "image/png": "[encoded data removed]"
          },
          "metadata": {}
        },
        {
          "output_type": "stream",
          "name": "stdout",
          "text": [
            "image 1\n",
            "sortie du réseau: [0.000 0.000 0.999 0.000 0.000 0.000 0.000 0.000 0.000 0.000] 2\n",
            "sortie attendue : [0.000 0.000 1.000 0.000 0.000 0.000 0.000 0.000 0.000 0.000] 2\n"
          ]
        },
        {
          "output_type": "display_data",
          "data": {
            "text/plain": [
              "<PIL.Image.Image image mode=L size=28x28 at 0x7F6F3E8A4AC0>"
            ],
            "image/png": "[encoded data removed]"
          },
          "metadata": {}
        },
        {
          "output_type": "stream",
          "name": "stdout",
          "text": [
            "image 2\n",
            "sortie du réseau: [0.000 1.000 0.000 0.000 0.000 0.000 0.000 0.000 0.000 0.000] 1\n",
            "sortie attendue : [0.000 1.000 0.000 0.000 0.000 0.000 0.000 0.000 0.000 0.000] 1\n"
          ]
        },
        {
          "output_type": "display_data",
          "data": {
            "text/plain": [
              "<PIL.Image.Image image mode=L size=28x28 at 0x7F6FB01BA490>"
            ],
            "image/png": "[encoded data removed]"
          },
          "metadata": {}
        },
        {
          "output_type": "stream",
          "name": "stdout",
          "text": [
            "image 3\n",
            "sortie du réseau: [1.000 0.000 0.000 0.000 0.000 0.000 0.000 0.000 0.000 0.000] 0\n",
            "sortie attendue : [1.000 0.000 0.000 0.000 0.000 0.000 0.000 0.000 0.000 0.000] 0\n"
          ]
        },
        {
          "output_type": "display_data",
          "data": {
            "text/plain": [
              "<PIL.Image.Image image mode=L size=28x28 at 0x7F6F3E8A4BB0>"
            ],
            "image/png": "[encoded data removed]"
          },
          "metadata": {}
        },
        {
          "output_type": "stream",
          "name": "stdout",
          "text": [
            "image 4\n",
            "sortie du réseau: [0.000 0.000 0.000 0.000 1.000 0.000 0.000 0.000 0.000 0.000] 4\n",
            "sortie attendue : [0.000 0.000 0.000 0.000 1.000 0.000 0.000 0.000 0.000 0.000] 4\n"
          ]
        },
        {
          "output_type": "display_data",
          "data": {
            "text/plain": [
              "<PIL.Image.Image image mode=L size=28x28 at 0x7F6FB01BA490>"
            ],
            "image/png": "[encoded data removed]"
          },
          "metadata": {}
        },
        {
          "output_type": "stream",
          "name": "stdout",
          "text": [
            "image 5\n",
            "sortie du réseau: [0.000 0.999 0.000 0.000 0.000 0.000 0.000 0.000 0.000 0.000] 1\n",
            "sortie attendue : [0.000 1.000 0.000 0.000 0.000 0.000 0.000 0.000 0.000 0.000] 1\n"
          ]
        },
        {
          "output_type": "display_data",
          "data": {
            "text/plain": [
              "<PIL.Image.Image image mode=L size=28x28 at 0x7F6F3E896820>"
            ],
            "image/png": "[encoded data removed]"
          },
          "metadata": {}
        },
        {
          "output_type": "stream",
          "name": "stdout",
          "text": [
            "image 6\n",
            "sortie du réseau: [0.000 0.000 0.000 0.000 0.872 0.000 0.000 0.000 0.126 0.001] 4\n",
            "sortie attendue : [0.000 0.000 0.000 0.000 1.000 0.000 0.000 0.000 0.000 0.000] 4\n"
          ]
        },
        {
          "output_type": "display_data",
          "data": {
            "text/plain": [
              "<PIL.Image.Image image mode=L size=28x28 at 0x7F6F3EA2F220>"
            ],
            "image/png": "[encoded data removed]"
          },
          "metadata": {}
        },
        {
          "output_type": "stream",
          "name": "stdout",
          "text": [
            "image 7\n",
            "sortie du réseau: [0.000 0.000 0.000 0.000 0.001 0.000 0.000 0.000 0.000 0.998] 9\n",
            "sortie attendue : [0.000 0.000 0.000 0.000 0.000 0.000 0.000 0.000 0.000 1.000] 9\n"
          ]
        },
        {
          "output_type": "display_data",
          "data": {
            "text/plain": [
              "<PIL.Image.Image image mode=L size=28x28 at 0x7F6F3E896EE0>"
            ],
            "image/png": "[encoded data removed]"
          },
          "metadata": {}
        },
        {
          "output_type": "stream",
          "name": "stdout",
          "text": [
            "image 8\n",
            "sortie du réseau: [0.000 0.000 0.000 0.000 0.000 0.975 0.021 0.000 0.004 0.000] 5\n",
            "sortie attendue : [0.000 0.000 0.000 0.000 0.000 1.000 0.000 0.000 0.000 0.000] 5\n"
          ]
        },
        {
          "output_type": "display_data",
          "data": {
            "text/plain": [
              "<PIL.Image.Image image mode=L size=28x28 at 0x7F6FB01BA490>"
            ],
            "image/png": "[encoded data removed]"
          },
          "metadata": {}
        },
        {
          "output_type": "stream",
          "name": "stdout",
          "text": [
            "image 9\n",
            "sortie du réseau: [0.000 0.000 0.000 0.000 0.001 0.000 0.000 0.000 0.004 0.995] 9\n",
            "sortie attendue : [0.000 0.000 0.000 0.000 0.000 0.000 0.000 0.000 0.000 1.000] 9\n"
          ]
        },
        {
          "output_type": "display_data",
          "data": {
            "text/plain": [
              "<PIL.Image.Image image mode=L size=28x28 at 0x7F6F3E8A4460>"
            ],
            "image/png": "[encoded data removed]"
          },
          "metadata": {}
        },
        {
          "output_type": "stream",
          "name": "stdout",
          "text": [
            "image 10\n",
            "sortie du réseau: [1.000 0.000 0.000 0.000 0.000 0.000 0.000 0.000 0.000 0.000] 0\n",
            "sortie attendue : [1.000 0.000 0.000 0.000 0.000 0.000 0.000 0.000 0.000 0.000] 0\n"
          ]
        },
        {
          "output_type": "display_data",
          "data": {
            "text/plain": [
              "<PIL.Image.Image image mode=L size=28x28 at 0x7F6F3E896820>"
            ],
            "image/png": "[encoded data removed]"
          },
          "metadata": {}
        },
        {
          "output_type": "stream",
          "name": "stdout",
          "text": [
            "image 11\n",
            "sortie du réseau: [0.001 0.000 0.000 0.000 0.000 0.000 0.999 0.000 0.000 0.000] 6\n",
            "sortie attendue : [0.000 0.000 0.000 0.000 0.000 0.000 1.000 0.000 0.000 0.000] 6\n"
          ]
        },
        {
          "output_type": "display_data",
          "data": {
            "text/plain": [
              "<PIL.Image.Image image mode=L size=28x28 at 0x7F6F3E8A4190>"
            ],
            "image/png": "[encoded data removed]"
          },
          "metadata": {}
        },
        {
          "output_type": "stream",
          "name": "stdout",
          "text": [
            "image 12\n",
            "sortie du réseau: [0.000 0.000 0.000 0.000 0.005 0.000 0.000 0.000 0.001 0.994] 9\n",
            "sortie attendue : [0.000 0.000 0.000 0.000 0.000 0.000 0.000 0.000 0.000 1.000] 9\n"
          ]
        },
        {
          "output_type": "display_data",
          "data": {
            "text/plain": [
              "<PIL.Image.Image image mode=L size=28x28 at 0x7F6F3E8A4BB0>"
            ],
            "image/png": "[encoded data removed]"
          },
          "metadata": {}
        },
        {
          "output_type": "stream",
          "name": "stdout",
          "text": [
            "image 13\n",
            "sortie du réseau: [1.000 0.000 0.000 0.000 0.000 0.000 0.000 0.000 0.000 0.000] 0\n",
            "sortie attendue : [1.000 0.000 0.000 0.000 0.000 0.000 0.000 0.000 0.000 0.000] 0\n"
          ]
        },
        {
          "output_type": "display_data",
          "data": {
            "text/plain": [
              "<PIL.Image.Image image mode=L size=28x28 at 0x7F6F3E896EE0>"
            ],
            "image/png": "[encoded data removed]"
          },
          "metadata": {}
        },
        {
          "output_type": "stream",
          "name": "stdout",
          "text": [
            "image 14\n",
            "sortie du réseau: [0.000 0.999 0.000 0.000 0.000 0.000 0.000 0.000 0.000 0.000] 1\n",
            "sortie attendue : [0.000 1.000 0.000 0.000 0.000 0.000 0.000 0.000 0.000 0.000] 1\n"
          ]
        },
        {
          "output_type": "display_data",
          "data": {
            "text/plain": [
              "<PIL.Image.Image image mode=L size=28x28 at 0x7F6F3E8A4760>"
            ],
            "image/png": "[encoded data removed]"
          },
          "metadata": {}
        },
        {
          "output_type": "stream",
          "name": "stdout",
          "text": [
            "image 15\n",
            "sortie du réseau: [0.000 0.000 0.000 0.106 0.000 0.890 0.000 0.000 0.004 0.000] 5\n",
            "sortie attendue : [0.000 0.000 0.000 0.000 0.000 1.000 0.000 0.000 0.000 0.000] 5\n"
          ]
        },
        {
          "output_type": "display_data",
          "data": {
            "text/plain": [
              "<PIL.Image.Image image mode=L size=28x28 at 0x7F6F3E896A60>"
            ],
            "image/png": "[encoded data removed]"
          },
          "metadata": {}
        },
        {
          "output_type": "stream",
          "name": "stdout",
          "text": [
            "image 16\n",
            "sortie du réseau: [0.000 0.000 0.000 0.000 0.000 0.000 0.000 0.000 0.000 1.000] 9\n",
            "sortie attendue : [0.000 0.000 0.000 0.000 0.000 0.000 0.000 0.000 0.000 1.000] 9\n"
          ]
        },
        {
          "output_type": "display_data",
          "data": {
            "text/plain": [
              "<PIL.Image.Image image mode=L size=28x28 at 0x7F6F3E84C5E0>"
            ],
            "image/png": "[encoded data removed]"
          },
          "metadata": {}
        },
        {
          "output_type": "stream",
          "name": "stdout",
          "text": [
            "image 17\n",
            "sortie du réseau: [0.000 0.000 0.000 0.000 0.000 0.000 0.000 1.000 0.000 0.000] 7\n",
            "sortie attendue : [0.000 0.000 0.000 0.000 0.000 0.000 0.000 1.000 0.000 0.000] 7\n"
          ]
        },
        {
          "output_type": "display_data",
          "data": {
            "text/plain": [
              "<PIL.Image.Image image mode=L size=28x28 at 0x7F6F3E896820>"
            ],
            "image/png": "[encoded data removed]"
          },
          "metadata": {}
        },
        {
          "output_type": "stream",
          "name": "stdout",
          "text": [
            "image 18\n",
            "sortie du réseau: [0.000 0.000 0.000 0.994 0.000 0.002 0.000 0.000 0.003 0.000] 3\n",
            "sortie attendue : [0.000 0.000 0.000 1.000 0.000 0.000 0.000 0.000 0.000 0.000] 3\n"
          ]
        },
        {
          "output_type": "display_data",
          "data": {
            "text/plain": [
              "<PIL.Image.Image image mode=L size=28x28 at 0x7F6F3E8A4760>"
            ],
            "image/png": "[encoded data removed]"
          },
          "metadata": {}
        },
        {
          "output_type": "stream",
          "name": "stdout",
          "text": [
            "image 19\n",
            "sortie du réseau: [0.000 0.000 0.000 0.000 1.000 0.000 0.000 0.000 0.000 0.000] 4\n",
            "sortie attendue : [0.000 0.000 0.000 0.000 1.000 0.000 0.000 0.000 0.000 0.000] 4\n"
          ]
        },
        {
          "output_type": "display_data",
          "data": {
            "text/plain": [
              "<PIL.Image.Image image mode=L size=28x28 at 0x7F6F3E896670>"
            ],
            "image/png": "[encoded data removed]"
          },
          "metadata": {}
        },
        {
          "output_type": "stream",
          "name": "stdout",
          "text": [
            "image 20\n",
            "sortie du réseau: [0.000 0.000 0.000 0.003 0.008 0.000 0.000 0.004 0.000 0.985] 9\n",
            "sortie attendue : [0.000 0.000 0.000 0.000 0.000 0.000 0.000 0.000 0.000 1.000] 9\n"
          ]
        },
        {
          "output_type": "display_data",
          "data": {
            "text/plain": [
              "<PIL.Image.Image image mode=L size=28x28 at 0x7F6F3E8A4760>"
            ],
            "image/png": "[encoded data removed]"
          },
          "metadata": {}
        },
        {
          "output_type": "stream",
          "name": "stdout",
          "text": [
            "image 21\n",
            "sortie du réseau: [0.000 0.000 0.000 0.000 0.000 0.000 1.000 0.000 0.000 0.000] 6\n",
            "sortie attendue : [0.000 0.000 0.000 0.000 0.000 0.000 1.000 0.000 0.000 0.000] 6\n"
          ]
        },
        {
          "output_type": "display_data",
          "data": {
            "text/plain": [
              "<PIL.Image.Image image mode=L size=28x28 at 0x7F6F3E896EE0>"
            ],
            "image/png": "[encoded data removed]"
          },
          "metadata": {}
        },
        {
          "output_type": "stream",
          "name": "stdout",
          "text": [
            "image 22\n",
            "sortie du réseau: [0.000 0.000 0.000 0.000 0.026 0.000 0.974 0.000 0.000 0.000] 6\n",
            "sortie attendue : [0.000 0.000 0.000 0.000 0.000 0.000 1.000 0.000 0.000 0.000] 6\n"
          ]
        },
        {
          "output_type": "display_data",
          "data": {
            "text/plain": [
              "<PIL.Image.Image image mode=L size=28x28 at 0x7F6F3EA2F220>"
            ],
            "image/png": "[encoded data removed]"
          },
          "metadata": {}
        },
        {
          "output_type": "stream",
          "name": "stdout",
          "text": [
            "image 23\n",
            "sortie du réseau: [0.000 0.000 0.000 0.000 0.000 1.000 0.000 0.000 0.000 0.000] 5\n",
            "sortie attendue : [0.000 0.000 0.000 0.000 0.000 1.000 0.000 0.000 0.000 0.000] 5\n"
          ]
        },
        {
          "output_type": "display_data",
          "data": {
            "text/plain": [
              "<PIL.Image.Image image mode=L size=28x28 at 0x7F6F3E896A60>"
            ],
            "image/png": "[encoded data removed]"
          },
          "metadata": {}
        },
        {
          "output_type": "stream",
          "name": "stdout",
          "text": [
            "image 24\n",
            "sortie du réseau: [0.000 0.000 0.000 0.000 0.998 0.000 0.000 0.000 0.000 0.002] 4\n",
            "sortie attendue : [0.000 0.000 0.000 0.000 1.000 0.000 0.000 0.000 0.000 0.000] 4\n"
          ]
        },
        {
          "output_type": "display_data",
          "data": {
            "text/plain": [
              "<PIL.Image.Image image mode=L size=28x28 at 0x7F6F3EC93040>"
            ],
            "image/png": "[encoded data removed]"
          },
          "metadata": {}
        },
        {
          "output_type": "stream",
          "name": "stdout",
          "text": [
            "image 25\n",
            "sortie du réseau: [1.000 0.000 0.000 0.000 0.000 0.000 0.000 0.000 0.000 0.000] 0\n",
            "sortie attendue : [1.000 0.000 0.000 0.000 0.000 0.000 0.000 0.000 0.000 0.000] 0\n"
          ]
        },
        {
          "output_type": "display_data",
          "data": {
            "text/plain": [
              "<PIL.Image.Image image mode=L size=28x28 at 0x7F6F3E896820>"
            ],
            "image/png": "[encoded data removed]"
          },
          "metadata": {}
        },
        {
          "output_type": "stream",
          "name": "stdout",
          "text": [
            "image 26\n",
            "sortie du réseau: [0.000 0.000 0.000 0.000 0.000 0.000 0.000 1.000 0.000 0.000] 7\n",
            "sortie attendue : [0.000 0.000 0.000 0.000 0.000 0.000 0.000 1.000 0.000 0.000] 7\n"
          ]
        },
        {
          "output_type": "display_data",
          "data": {
            "text/plain": [
              "<PIL.Image.Image image mode=L size=28x28 at 0x7F6F3E8A4BB0>"
            ],
            "image/png": "[encoded data removed]"
          },
          "metadata": {}
        },
        {
          "output_type": "stream",
          "name": "stdout",
          "text": [
            "image 27\n",
            "sortie du réseau: [0.000 0.000 0.000 0.000 1.000 0.000 0.000 0.000 0.000 0.000] 4\n",
            "sortie attendue : [0.000 0.000 0.000 0.000 1.000 0.000 0.000 0.000 0.000 0.000] 4\n"
          ]
        },
        {
          "output_type": "display_data",
          "data": {
            "text/plain": [
              "<PIL.Image.Image image mode=L size=28x28 at 0x7F6F3E896670>"
            ],
            "image/png": "[encoded data removed]"
          },
          "metadata": {}
        },
        {
          "output_type": "stream",
          "name": "stdout",
          "text": [
            "image 28\n",
            "sortie du réseau: [1.000 0.000 0.000 0.000 0.000 0.000 0.000 0.000 0.000 0.000] 0\n",
            "sortie attendue : [1.000 0.000 0.000 0.000 0.000 0.000 0.000 0.000 0.000 0.000] 0\n"
          ]
        },
        {
          "output_type": "display_data",
          "data": {
            "text/plain": [
              "<PIL.Image.Image image mode=L size=28x28 at 0x7F6F3EA24F40>"
            ],
            "image/png": "[encoded data removed]"
          },
          "metadata": {}
        },
        {
          "output_type": "stream",
          "name": "stdout",
          "text": [
            "image 29\n",
            "sortie du réseau: [0.000 0.997 0.000 0.000 0.000 0.001 0.000 0.000 0.001 0.000] 1\n",
            "sortie attendue : [0.000 1.000 0.000 0.000 0.000 0.000 0.000 0.000 0.000 0.000] 1\n"
          ]
        },
        {
          "output_type": "display_data",
          "data": {
            "text/plain": [
              "<PIL.Image.Image image mode=L size=28x28 at 0x7F6F3E896EE0>"
            ],
            "image/png": "[encoded data removed]"
          },
          "metadata": {}
        },
        {
          "output_type": "stream",
          "name": "stdout",
          "text": [
            "image 30\n",
            "sortie du réseau: [0.000 0.000 0.000 1.000 0.000 0.000 0.000 0.000 0.000 0.000] 3\n",
            "sortie attendue : [0.000 0.000 0.000 1.000 0.000 0.000 0.000 0.000 0.000 0.000] 3\n"
          ]
        },
        {
          "output_type": "display_data",
          "data": {
            "text/plain": [
              "<PIL.Image.Image image mode=L size=28x28 at 0x7F6F3E8A4190>"
            ],
            "image/png": "[encoded data removed]"
          },
          "metadata": {}
        },
        {
          "output_type": "stream",
          "name": "stdout",
          "text": [
            "image 31\n",
            "sortie du réseau: [0.000 0.993 0.000 0.000 0.000 0.000 0.000 0.000 0.000 0.005] 1\n",
            "sortie attendue : [0.000 1.000 0.000 0.000 0.000 0.000 0.000 0.000 0.000 0.000] 1\n"
          ]
        },
        {
          "output_type": "display_data",
          "data": {
            "text/plain": [
              "<PIL.Image.Image image mode=L size=28x28 at 0x7F6F3E896A60>"
            ],
            "image/png": "[encoded data removed]"
          },
          "metadata": {}
        },
        {
          "output_type": "stream",
          "name": "stdout",
          "text": [
            "image 32\n",
            "sortie du réseau: [0.000 0.000 0.000 1.000 0.000 0.000 0.000 0.000 0.000 0.000] 3\n",
            "sortie attendue : [0.000 0.000 0.000 1.000 0.000 0.000 0.000 0.000 0.000 0.000] 3\n"
          ]
        },
        {
          "output_type": "display_data",
          "data": {
            "text/plain": [
              "<PIL.Image.Image image mode=L size=28x28 at 0x7F6FB01BA490>"
            ],
            "image/png": "[encoded data removed]"
          },
          "metadata": {}
        },
        {
          "output_type": "stream",
          "name": "stdout",
          "text": [
            "image 33\n",
            "sortie du réseau: [0.863 0.000 0.006 0.000 0.124 0.002 0.005 0.000 0.000 0.000] 0\n",
            "sortie attendue : [0.000 0.000 0.000 0.000 1.000 0.000 0.000 0.000 0.000 0.000] 4\n"
          ]
        },
        {
          "output_type": "display_data",
          "data": {
            "text/plain": [
              "<PIL.Image.Image image mode=L size=28x28 at 0x7F6F3E896820>"
            ],
            "image/png": "[encoded data removed]"
          },
          "metadata": {}
        },
        {
          "output_type": "stream",
          "name": "stdout",
          "text": [
            "image 34\n",
            "sortie du réseau: [0.000 0.000 0.000 0.000 0.000 0.000 0.000 1.000 0.000 0.000] 7\n",
            "sortie attendue : [0.000 0.000 0.000 0.000 0.000 0.000 0.000 1.000 0.000 0.000] 7\n"
          ]
        },
        {
          "output_type": "display_data",
          "data": {
            "text/plain": [
              "<PIL.Image.Image image mode=L size=28x28 at 0x7F6F3E84C5B0>"
            ],
            "image/png": "[encoded data removed]"
          },
          "metadata": {}
        },
        {
          "output_type": "stream",
          "name": "stdout",
          "text": [
            "image 35\n",
            "sortie du réseau: [0.000 0.000 1.000 0.000 0.000 0.000 0.000 0.000 0.000 0.000] 2\n",
            "sortie attendue : [0.000 0.000 1.000 0.000 0.000 0.000 0.000 0.000 0.000 0.000] 2\n"
          ]
        },
        {
          "output_type": "display_data",
          "data": {
            "text/plain": [
              "<PIL.Image.Image image mode=L size=28x28 at 0x7F6F3E896670>"
            ],
            "image/png": "[encoded data removed]"
          },
          "metadata": {}
        },
        {
          "output_type": "stream",
          "name": "stdout",
          "text": [
            "image 36\n",
            "sortie du réseau: [0.000 0.001 0.010 0.007 0.000 0.000 0.000 0.959 0.002 0.020] 7\n",
            "sortie attendue : [0.000 0.000 0.000 0.000 0.000 0.000 0.000 1.000 0.000 0.000] 7\n"
          ]
        },
        {
          "output_type": "display_data",
          "data": {
            "text/plain": [
              "<PIL.Image.Image image mode=L size=28x28 at 0x7F6F3E8A4BB0>"
            ],
            "image/png": "[encoded data removed]"
          },
          "metadata": {}
        },
        {
          "output_type": "stream",
          "name": "stdout",
          "text": [
            "image 37\n",
            "sortie du réseau: [0.000 1.000 0.000 0.000 0.000 0.000 0.000 0.000 0.000 0.000] 1\n",
            "sortie attendue : [0.000 1.000 0.000 0.000 0.000 0.000 0.000 0.000 0.000 0.000] 1\n"
          ]
        },
        {
          "output_type": "display_data",
          "data": {
            "text/plain": [
              "<PIL.Image.Image image mode=L size=28x28 at 0x7F6F3E896EE0>"
            ],
            "image/png": "[encoded data removed]"
          },
          "metadata": {}
        },
        {
          "output_type": "stream",
          "name": "stdout",
          "text": [
            "image 38\n",
            "sortie du réseau: [0.002 0.001 0.993 0.004 0.000 0.000 0.000 0.000 0.000 0.000] 2\n",
            "sortie attendue : [0.000 0.000 1.000 0.000 0.000 0.000 0.000 0.000 0.000 0.000] 2\n"
          ]
        },
        {
          "output_type": "display_data",
          "data": {
            "text/plain": [
              "<PIL.Image.Image image mode=L size=28x28 at 0x7F6F3E84C5B0>"
            ],
            "image/png": "[encoded data removed]"
          },
          "metadata": {}
        },
        {
          "output_type": "stream",
          "name": "stdout",
          "text": [
            "image 39\n",
            "sortie du réseau: [0.000 0.999 0.000 0.000 0.000 0.000 0.000 0.000 0.001 0.000] 1\n",
            "sortie attendue : [0.000 1.000 0.000 0.000 0.000 0.000 0.000 0.000 0.000 0.000] 1\n"
          ]
        },
        {
          "output_type": "display_data",
          "data": {
            "text/plain": [
              "<PIL.Image.Image image mode=L size=28x28 at 0x7F6F3E896A60>"
            ],
            "image/png": "[encoded data removed]"
          },
          "metadata": {}
        },
        {
          "output_type": "stream",
          "name": "stdout",
          "text": [
            "image 40\n",
            "sortie du réseau: [0.001 0.995 0.001 0.000 0.000 0.001 0.000 0.001 0.000 0.000] 1\n",
            "sortie attendue : [0.000 1.000 0.000 0.000 0.000 0.000 0.000 0.000 0.000 0.000] 1\n"
          ]
        },
        {
          "output_type": "display_data",
          "data": {
            "text/plain": [
              "<PIL.Image.Image image mode=L size=28x28 at 0x7F6F3E8A4A00>"
            ],
            "image/png": "[encoded data removed]"
          },
          "metadata": {}
        },
        {
          "output_type": "stream",
          "name": "stdout",
          "text": [
            "image 41\n",
            "sortie du réseau: [0.000 0.000 0.002 0.002 0.000 0.000 0.000 0.996 0.000 0.000] 7\n",
            "sortie attendue : [0.000 0.000 0.000 0.000 0.000 0.000 0.000 1.000 0.000 0.000] 7\n"
          ]
        },
        {
          "output_type": "display_data",
          "data": {
            "text/plain": [
              "<PIL.Image.Image image mode=L size=28x28 at 0x7F6F3E896820>"
            ],
            "image/png": "[encoded data removed]"
          },
          "metadata": {}
        },
        {
          "output_type": "stream",
          "name": "stdout",
          "text": [
            "image 42\n",
            "sortie du réseau: [0.000 0.000 0.000 0.000 0.995 0.000 0.000 0.000 0.000 0.005] 4\n",
            "sortie attendue : [0.000 0.000 0.000 0.000 1.000 0.000 0.000 0.000 0.000 0.000] 4\n"
          ]
        },
        {
          "output_type": "display_data",
          "data": {
            "text/plain": [
              "<PIL.Image.Image image mode=L size=28x28 at 0x7F6F3E84C5E0>"
            ],
            "image/png": "[encoded data removed]"
          },
          "metadata": {}
        },
        {
          "output_type": "stream",
          "name": "stdout",
          "text": [
            "image 43\n",
            "sortie du réseau: [0.000 0.001 0.995 0.000 0.000 0.003 0.000 0.000 0.000 0.000] 2\n",
            "sortie attendue : [0.000 0.000 1.000 0.000 0.000 0.000 0.000 0.000 0.000 0.000] 2\n"
          ]
        },
        {
          "output_type": "display_data",
          "data": {
            "text/plain": [
              "<PIL.Image.Image image mode=L size=28x28 at 0x7F6F3E896670>"
            ],
            "image/png": "[encoded data removed]"
          },
          "metadata": {}
        },
        {
          "output_type": "stream",
          "name": "stdout",
          "text": [
            "image 44\n",
            "sortie du réseau: [0.000 0.000 0.000 1.000 0.000 0.000 0.000 0.000 0.000 0.000] 3\n",
            "sortie attendue : [0.000 0.000 0.000 1.000 0.000 0.000 0.000 0.000 0.000 0.000] 3\n"
          ]
        },
        {
          "output_type": "display_data",
          "data": {
            "text/plain": [
              "<PIL.Image.Image image mode=L size=28x28 at 0x7F6FB01BA490>"
            ],
            "image/png": "[encoded data removed]"
          },
          "metadata": {}
        },
        {
          "output_type": "stream",
          "name": "stdout",
          "text": [
            "image 45\n",
            "sortie du réseau: [0.000 0.000 0.000 0.000 0.000 1.000 0.000 0.000 0.000 0.000] 5\n",
            "sortie attendue : [0.000 0.000 0.000 0.000 0.000 1.000 0.000 0.000 0.000 0.000] 5\n"
          ]
        },
        {
          "output_type": "display_data",
          "data": {
            "text/plain": [
              "<PIL.Image.Image image mode=L size=28x28 at 0x7F6F3E896EE0>"
            ],
            "image/png": "[encoded data removed]"
          },
          "metadata": {}
        },
        {
          "output_type": "stream",
          "name": "stdout",
          "text": [
            "image 46\n",
            "sortie du réseau: [0.000 0.997 0.002 0.000 0.000 0.000 0.000 0.000 0.000 0.000] 1\n",
            "sortie attendue : [0.000 1.000 0.000 0.000 0.000 0.000 0.000 0.000 0.000 0.000] 1\n"
          ]
        },
        {
          "output_type": "display_data",
          "data": {
            "text/plain": [
              "<PIL.Image.Image image mode=L size=28x28 at 0x7F6FB01BAFD0>"
            ],
            "image/png": "[encoded data removed]"
          },
          "metadata": {}
        },
        {
          "output_type": "stream",
          "name": "stdout",
          "text": [
            "image 47\n",
            "sortie du réseau: [0.000 0.000 1.000 0.000 0.000 0.000 0.000 0.000 0.000 0.000] 2\n",
            "sortie attendue : [0.000 0.000 1.000 0.000 0.000 0.000 0.000 0.000 0.000 0.000] 2\n"
          ]
        },
        {
          "output_type": "display_data",
          "data": {
            "text/plain": [
              "<PIL.Image.Image image mode=L size=28x28 at 0x7F6F3E896A60>"
            ],
            "image/png": "[encoded data removed]"
          },
          "metadata": {}
        },
        {
          "output_type": "stream",
          "name": "stdout",
          "text": [
            "image 48\n",
            "sortie du réseau: [0.000 0.000 0.000 0.000 0.995 0.000 0.000 0.000 0.000 0.005] 4\n",
            "sortie attendue : [0.000 0.000 0.000 0.000 1.000 0.000 0.000 0.000 0.000 0.000] 4\n"
          ]
        },
        {
          "output_type": "display_data",
          "data": {
            "text/plain": [
              "<PIL.Image.Image image mode=L size=28x28 at 0x7F6F3EA20D00>"
            ],
            "image/png": "[encoded data removed]"
          },
          "metadata": {}
        },
        {
          "output_type": "stream",
          "name": "stdout",
          "text": [
            "image 49\n",
            "sortie du réseau: [0.000 0.000 0.000 0.000 1.000 0.000 0.000 0.000 0.000 0.000] 4\n",
            "sortie attendue : [0.000 0.000 0.000 0.000 1.000 0.000 0.000 0.000 0.000 0.000] 4\n"
          ]
        },
        {
          "output_type": "display_data",
          "data": {
            "text/plain": [
              "<PIL.Image.Image image mode=L size=28x28 at 0x7F6F3E896670>"
            ],
            "image/png": "[encoded data removed]"
          },
          "metadata": {}
        },
        {
          "output_type": "stream",
          "name": "stdout",
          "text": [
            "image 50\n",
            "sortie du réseau: [0.002 0.000 0.000 0.000 0.000 0.002 0.996 0.000 0.000 0.000] 6\n",
            "sortie attendue : [0.000 0.000 0.000 0.000 0.000 0.000 1.000 0.000 0.000 0.000] 6\n"
          ]
        },
        {
          "output_type": "display_data",
          "data": {
            "text/plain": [
              "<PIL.Image.Image image mode=L size=28x28 at 0x7F6F3E8A4190>"
            ],
            "image/png": "[encoded data removed]"
          },
          "metadata": {}
        },
        {
          "output_type": "stream",
          "name": "stdout",
          "text": [
            "image 51\n",
            "sortie du réseau: [0.000 0.000 0.000 1.000 0.000 0.000 0.000 0.000 0.000 0.000] 3\n",
            "sortie attendue : [0.000 0.000 0.000 1.000 0.000 0.000 0.000 0.000 0.000 0.000] 3\n"
          ]
        },
        {
          "output_type": "display_data",
          "data": {
            "text/plain": [
              "<PIL.Image.Image image mode=L size=28x28 at 0x7F6F3E896BE0>"
            ],
            "image/png": "[encoded data removed]"
          },
          "metadata": {}
        },
        {
          "output_type": "stream",
          "name": "stdout",
          "text": [
            "image 52\n",
            "sortie du réseau: [0.000 0.000 0.000 0.000 0.000 1.000 0.000 0.000 0.000 0.000] 5\n",
            "sortie attendue : [0.000 0.000 0.000 0.000 0.000 1.000 0.000 0.000 0.000 0.000] 5\n"
          ]
        },
        {
          "output_type": "display_data",
          "data": {
            "text/plain": [
              "<PIL.Image.Image image mode=L size=28x28 at 0x7F6FB01BA490>"
            ],
            "image/png": "[encoded data removed]"
          },
          "metadata": {}
        },
        {
          "output_type": "stream",
          "name": "stdout",
          "text": [
            "image 53\n",
            "sortie du réseau: [0.000 0.000 0.000 0.000 0.000 1.000 0.000 0.000 0.000 0.000] 5\n",
            "sortie attendue : [0.000 0.000 0.000 0.000 0.000 1.000 0.000 0.000 0.000 0.000] 5\n"
          ]
        },
        {
          "output_type": "display_data",
          "data": {
            "text/plain": [
              "<PIL.Image.Image image mode=L size=28x28 at 0x7F6F3E896A60>"
            ],
            "image/png": "[encoded data removed]"
          },
          "metadata": {}
        },
        {
          "output_type": "stream",
          "name": "stdout",
          "text": [
            "image 54\n",
            "sortie du réseau: [0.000 0.000 0.000 0.000 0.000 0.000 1.000 0.000 0.000 0.000] 6\n",
            "sortie attendue : [0.000 0.000 0.000 0.000 0.000 0.000 1.000 0.000 0.000 0.000] 6\n"
          ]
        },
        {
          "output_type": "display_data",
          "data": {
            "text/plain": [
              "<PIL.Image.Image image mode=L size=28x28 at 0x7F6F3EC93040>"
            ],
            "image/png": "[encoded data removed]"
          },
          "metadata": {}
        },
        {
          "output_type": "stream",
          "name": "stdout",
          "text": [
            "image 55\n",
            "sortie du réseau: [0.999 0.000 0.000 0.000 0.000 0.000 0.000 0.000 0.001 0.000] 0\n",
            "sortie attendue : [1.000 0.000 0.000 0.000 0.000 0.000 0.000 0.000 0.000 0.000] 0\n"
          ]
        },
        {
          "output_type": "display_data",
          "data": {
            "text/plain": [
              "<PIL.Image.Image image mode=L size=28x28 at 0x7F6F3E896670>"
            ],
            "image/png": "[encoded data removed]"
          },
          "metadata": {}
        },
        {
          "output_type": "stream",
          "name": "stdout",
          "text": [
            "image 56\n",
            "sortie du réseau: [0.000 0.000 0.000 0.000 1.000 0.000 0.000 0.000 0.000 0.000] 4\n",
            "sortie attendue : [0.000 0.000 0.000 0.000 1.000 0.000 0.000 0.000 0.000 0.000] 4\n"
          ]
        },
        {
          "output_type": "display_data",
          "data": {
            "text/plain": [
              "<PIL.Image.Image image mode=L size=28x28 at 0x7F6F3EA24F40>"
            ],
            "image/png": "[encoded data removed]"
          },
          "metadata": {}
        },
        {
          "output_type": "stream",
          "name": "stdout",
          "text": [
            "image 57\n",
            "sortie du réseau: [0.000 1.000 0.000 0.000 0.000 0.000 0.000 0.000 0.000 0.000] 1\n",
            "sortie attendue : [0.000 1.000 0.000 0.000 0.000 0.000 0.000 0.000 0.000 0.000] 1\n"
          ]
        },
        {
          "output_type": "display_data",
          "data": {
            "text/plain": [
              "<PIL.Image.Image image mode=L size=28x28 at 0x7F6F3E896BE0>"
            ],
            "image/png": "[encoded data removed]"
          },
          "metadata": {}
        },
        {
          "output_type": "stream",
          "name": "stdout",
          "text": [
            "image 58\n",
            "sortie du réseau: [0.000 0.000 0.000 0.000 0.000 0.000 0.000 0.000 0.000 1.000] 9\n",
            "sortie attendue : [0.000 0.000 0.000 0.000 0.000 0.000 0.000 0.000 0.000 1.000] 9\n"
          ]
        },
        {
          "output_type": "display_data",
          "data": {
            "text/plain": [
              "<PIL.Image.Image image mode=L size=28x28 at 0x7F6FB01BAFD0>"
            ],
            "image/png": "[encoded data removed]"
          },
          "metadata": {}
        },
        {
          "output_type": "stream",
          "name": "stdout",
          "text": [
            "image 59\n",
            "sortie du réseau: [0.000 0.000 0.000 0.000 0.001 0.997 0.000 0.003 0.000 0.000] 5\n",
            "sortie attendue : [0.000 0.000 0.000 0.000 0.000 1.000 0.000 0.000 0.000 0.000] 5\n"
          ]
        },
        {
          "output_type": "display_data",
          "data": {
            "text/plain": [
              "<PIL.Image.Image image mode=L size=28x28 at 0x7F6F3E896A60>"
            ],
            "image/png": "[encoded data removed]"
          },
          "metadata": {}
        },
        {
          "output_type": "stream",
          "name": "stdout",
          "text": [
            "image 60\n",
            "sortie du réseau: [0.000 0.000 0.000 0.000 0.000 0.000 0.000 0.999 0.000 0.000] 7\n",
            "sortie attendue : [0.000 0.000 0.000 0.000 0.000 0.000 0.000 1.000 0.000 0.000] 7\n"
          ]
        },
        {
          "output_type": "display_data",
          "data": {
            "text/plain": [
              "<PIL.Image.Image image mode=L size=28x28 at 0x7F6F3EA2F220>"
            ],
            "image/png": "[encoded data removed]"
          },
          "metadata": {}
        },
        {
          "output_type": "stream",
          "name": "stdout",
          "text": [
            "image 61\n",
            "sortie du réseau: [0.000 0.000 0.036 0.000 0.000 0.007 0.000 0.000 0.956 0.000] 8\n",
            "sortie attendue : [0.000 0.000 0.000 0.000 0.000 0.000 0.000 0.000 1.000 0.000] 8\n"
          ]
        },
        {
          "output_type": "display_data",
          "data": {
            "text/plain": [
              "<PIL.Image.Image image mode=L size=28x28 at 0x7F6F3E896670>"
            ],
            "image/png": "[encoded data removed]"
          },
          "metadata": {}
        },
        {
          "output_type": "stream",
          "name": "stdout",
          "text": [
            "image 62\n",
            "sortie du réseau: [0.000 0.000 0.001 0.000 0.000 0.961 0.000 0.005 0.006 0.028] 5\n",
            "sortie attendue : [0.000 0.000 0.000 0.000 0.000 0.000 0.000 0.000 0.000 1.000] 9\n"
          ]
        },
        {
          "output_type": "display_data",
          "data": {
            "text/plain": [
              "<PIL.Image.Image image mode=L size=28x28 at 0x7F6F3EA2F220>"
            ],
            "image/png": "[encoded data removed]"
          },
          "metadata": {}
        },
        {
          "output_type": "stream",
          "name": "stdout",
          "text": [
            "image 63\n",
            "sortie du réseau: [0.000 0.000 0.001 0.999 0.000 0.000 0.000 0.000 0.000 0.000] 3\n",
            "sortie attendue : [0.000 0.000 0.000 1.000 0.000 0.000 0.000 0.000 0.000 0.000] 3\n"
          ]
        },
        {
          "output_type": "display_data",
          "data": {
            "text/plain": [
              "<PIL.Image.Image image mode=L size=28x28 at 0x7F6F3E896BE0>"
            ],
            "image/png": "[encoded data removed]"
          },
          "metadata": {}
        },
        {
          "output_type": "stream",
          "name": "stdout",
          "text": [
            "image 64\n",
            "sortie du réseau: [0.000 0.000 0.000 0.000 0.000 0.000 0.000 1.000 0.000 0.000] 7\n",
            "sortie attendue : [0.000 0.000 0.000 0.000 0.000 0.000 0.000 1.000 0.000 0.000] 7\n"
          ]
        },
        {
          "output_type": "display_data",
          "data": {
            "text/plain": [
              "<PIL.Image.Image image mode=L size=28x28 at 0x7F6F3EC93FA0>"
            ],
            "image/png": "[encoded data removed]"
          },
          "metadata": {}
        },
        {
          "output_type": "stream",
          "name": "stdout",
          "text": [
            "image 65\n",
            "sortie du réseau: [0.000 0.001 0.000 0.002 0.992 0.000 0.000 0.000 0.000 0.004] 4\n",
            "sortie attendue : [0.000 0.000 0.000 0.000 1.000 0.000 0.000 0.000 0.000 0.000] 4\n"
          ]
        },
        {
          "output_type": "display_data",
          "data": {
            "text/plain": [
              "<PIL.Image.Image image mode=L size=28x28 at 0x7F6F3E896A60>"
            ],
            "image/png": "[encoded data removed]"
          },
          "metadata": {}
        },
        {
          "output_type": "stream",
          "name": "stdout",
          "text": [
            "image 66\n",
            "sortie du réseau: [0.012 0.000 0.000 0.000 0.000 0.000 0.987 0.000 0.000 0.000] 6\n",
            "sortie attendue : [0.000 0.000 0.000 0.000 0.000 0.000 1.000 0.000 0.000 0.000] 6\n"
          ]
        },
        {
          "output_type": "display_data",
          "data": {
            "text/plain": [
              "<PIL.Image.Image image mode=L size=28x28 at 0x7F6FB01BA490>"
            ],
            "image/png": "[encoded data removed]"
          },
          "metadata": {}
        },
        {
          "output_type": "stream",
          "name": "stdout",
          "text": [
            "image 67\n",
            "sortie du réseau: [0.000 0.000 0.000 0.000 1.000 0.000 0.000 0.000 0.000 0.000] 4\n",
            "sortie attendue : [0.000 0.000 0.000 0.000 1.000 0.000 0.000 0.000 0.000 0.000] 4\n"
          ]
        },
        {
          "output_type": "display_data",
          "data": {
            "text/plain": [
              "<PIL.Image.Image image mode=L size=28x28 at 0x7F6F3E896670>"
            ],
            "image/png": "[encoded data removed]"
          },
          "metadata": {}
        },
        {
          "output_type": "stream",
          "name": "stdout",
          "text": [
            "image 68\n",
            "sortie du réseau: [0.000 0.000 0.000 1.000 0.000 0.000 0.000 0.000 0.000 0.000] 3\n",
            "sortie attendue : [0.000 0.000 0.000 1.000 0.000 0.000 0.000 0.000 0.000 0.000] 3\n"
          ]
        },
        {
          "output_type": "display_data",
          "data": {
            "text/plain": [
              "<PIL.Image.Image image mode=L size=28x28 at 0x7F6F3EA2F280>"
            ],
            "image/png": "[encoded data removed]"
          },
          "metadata": {}
        },
        {
          "output_type": "stream",
          "name": "stdout",
          "text": [
            "image 69\n",
            "sortie du réseau: [1.000 0.000 0.000 0.000 0.000 0.000 0.000 0.000 0.000 0.000] 0\n",
            "sortie attendue : [1.000 0.000 0.000 0.000 0.000 0.000 0.000 0.000 0.000 0.000] 0\n"
          ]
        },
        {
          "output_type": "display_data",
          "data": {
            "text/plain": [
              "<PIL.Image.Image image mode=L size=28x28 at 0x7F6F3E896BE0>"
            ],
            "image/png": "[encoded data removed]"
          },
          "metadata": {}
        },
        {
          "output_type": "stream",
          "name": "stdout",
          "text": [
            "image 70\n",
            "sortie du réseau: [0.000 0.000 0.000 0.000 0.000 0.000 0.000 1.000 0.000 0.000] 7\n",
            "sortie attendue : [0.000 0.000 0.000 0.000 0.000 0.000 0.000 1.000 0.000 0.000] 7\n"
          ]
        },
        {
          "output_type": "display_data",
          "data": {
            "text/plain": [
              "<PIL.Image.Image image mode=L size=28x28 at 0x7F6FB01BAFD0>"
            ],
            "image/png": "[encoded data removed]"
          },
          "metadata": {}
        },
        {
          "output_type": "stream",
          "name": "stdout",
          "text": [
            "image 71\n",
            "sortie du réseau: [1.000 0.000 0.000 0.000 0.000 0.000 0.000 0.000 0.000 0.000] 0\n",
            "sortie attendue : [1.000 0.000 0.000 0.000 0.000 0.000 0.000 0.000 0.000 0.000] 0\n"
          ]
        },
        {
          "output_type": "display_data",
          "data": {
            "text/plain": [
              "<PIL.Image.Image image mode=L size=28x28 at 0x7F6F3E896A60>"
            ],
            "image/png": "[encoded data removed]"
          },
          "metadata": {}
        },
        {
          "output_type": "stream",
          "name": "stdout",
          "text": [
            "image 72\n",
            "sortie du réseau: [0.000 0.000 1.000 0.000 0.000 0.000 0.000 0.000 0.000 0.000] 2\n",
            "sortie attendue : [0.000 0.000 1.000 0.000 0.000 0.000 0.000 0.000 0.000 0.000] 2\n"
          ]
        },
        {
          "output_type": "display_data",
          "data": {
            "text/plain": [
              "<PIL.Image.Image image mode=L size=28x28 at 0x7F6F3EC93FA0>"
            ],
            "image/png": "[encoded data removed]"
          },
          "metadata": {}
        },
        {
          "output_type": "stream",
          "name": "stdout",
          "text": [
            "image 73\n",
            "sortie du réseau: [0.000 0.000 0.000 0.000 0.000 0.000 0.000 0.005 0.008 0.986] 9\n",
            "sortie attendue : [0.000 0.000 0.000 0.000 0.000 0.000 0.000 0.000 0.000 1.000] 9\n"
          ]
        },
        {
          "output_type": "display_data",
          "data": {
            "text/plain": [
              "<PIL.Image.Image image mode=L size=28x28 at 0x7F6F3E896670>"
            ],
            "image/png": "[encoded data removed]"
          },
          "metadata": {}
        },
        {
          "output_type": "stream",
          "name": "stdout",
          "text": [
            "image 74\n",
            "sortie du réseau: [0.000 1.000 0.000 0.000 0.000 0.000 0.000 0.000 0.000 0.000] 1\n",
            "sortie attendue : [0.000 1.000 0.000 0.000 0.000 0.000 0.000 0.000 0.000 0.000] 1\n"
          ]
        },
        {
          "output_type": "display_data",
          "data": {
            "text/plain": [
              "<PIL.Image.Image image mode=L size=28x28 at 0x7F6F3EA2F220>"
            ],
            "image/png": "[encoded data removed]"
          },
          "metadata": {}
        },
        {
          "output_type": "stream",
          "name": "stdout",
          "text": [
            "image 75\n",
            "sortie du réseau: [0.000 0.000 0.000 0.001 0.000 0.000 0.000 0.999 0.000 0.000] 7\n",
            "sortie attendue : [0.000 0.000 0.000 0.000 0.000 0.000 0.000 1.000 0.000 0.000] 7\n"
          ]
        },
        {
          "output_type": "display_data",
          "data": {
            "text/plain": [
              "<PIL.Image.Image image mode=L size=28x28 at 0x7F6F3E896BE0>"
            ],
            "image/png": "[encoded data removed]"
          },
          "metadata": {}
        },
        {
          "output_type": "stream",
          "name": "stdout",
          "text": [
            "image 76\n",
            "sortie du réseau: [0.000 0.000 0.000 1.000 0.000 0.000 0.000 0.000 0.000 0.000] 3\n",
            "sortie attendue : [0.000 0.000 0.000 1.000 0.000 0.000 0.000 0.000 0.000 0.000] 3\n"
          ]
        },
        {
          "output_type": "display_data",
          "data": {
            "text/plain": [
              "<PIL.Image.Image image mode=L size=28x28 at 0x7F6F3EC93040>"
            ],
            "image/png": "[encoded data removed]"
          },
          "metadata": {}
        },
        {
          "output_type": "stream",
          "name": "stdout",
          "text": [
            "image 77\n",
            "sortie du réseau: [0.002 0.000 0.994 0.000 0.000 0.001 0.000 0.002 0.000 0.000] 2\n",
            "sortie attendue : [0.000 0.000 1.000 0.000 0.000 0.000 0.000 0.000 0.000 0.000] 2\n"
          ]
        },
        {
          "output_type": "display_data",
          "data": {
            "text/plain": [
              "<PIL.Image.Image image mode=L size=28x28 at 0x7F6F3E896A60>"
            ],
            "image/png": "[encoded data removed]"
          },
          "metadata": {}
        },
        {
          "output_type": "stream",
          "name": "stdout",
          "text": [
            "image 78\n",
            "sortie du réseau: [0.000 0.000 0.000 0.000 0.003 0.000 0.000 0.000 0.004 0.994] 9\n",
            "sortie attendue : [0.000 0.000 0.000 0.000 0.000 0.000 0.000 0.000 0.000 1.000] 9\n"
          ]
        },
        {
          "output_type": "display_data",
          "data": {
            "text/plain": [
              "<PIL.Image.Image image mode=L size=28x28 at 0x7F6FB01BAFD0>"
            ],
            "image/png": "[encoded data removed]"
          },
          "metadata": {}
        },
        {
          "output_type": "stream",
          "name": "stdout",
          "text": [
            "image 79\n",
            "sortie du réseau: [0.000 0.000 0.000 0.000 0.000 0.000 0.000 1.000 0.000 0.000] 7\n",
            "sortie attendue : [0.000 0.000 0.000 0.000 0.000 0.000 0.000 1.000 0.000 0.000] 7\n"
          ]
        },
        {
          "output_type": "display_data",
          "data": {
            "text/plain": [
              "<PIL.Image.Image image mode=L size=28x28 at 0x7F6F3E896670>"
            ],
            "image/png": "[encoded data removed]"
          },
          "metadata": {}
        },
        {
          "output_type": "stream",
          "name": "stdout",
          "text": [
            "image 80\n",
            "sortie du réseau: [0.000 0.000 0.000 0.000 0.000 0.000 0.000 0.040 0.000 0.959] 9\n",
            "sortie attendue : [0.000 0.000 0.000 0.000 0.000 0.000 0.000 1.000 0.000 0.000] 7\n"
          ]
        },
        {
          "output_type": "display_data",
          "data": {
            "text/plain": [
              "<PIL.Image.Image image mode=L size=28x28 at 0x7F6F3EA2F280>"
            ],
            "image/png": "[encoded data removed]"
          },
          "metadata": {}
        },
        {
          "output_type": "stream",
          "name": "stdout",
          "text": [
            "image 81\n",
            "sortie du réseau: [0.000 0.000 0.000 0.000 0.000 0.000 1.000 0.000 0.000 0.000] 6\n",
            "sortie attendue : [0.000 0.000 0.000 0.000 0.000 0.000 1.000 0.000 0.000 0.000] 6\n"
          ]
        },
        {
          "output_type": "display_data",
          "data": {
            "text/plain": [
              "<PIL.Image.Image image mode=L size=28x28 at 0x7F6F3E896BE0>"
            ],
            "image/png": "[encoded data removed]"
          },
          "metadata": {}
        },
        {
          "output_type": "stream",
          "name": "stdout",
          "text": [
            "image 82\n",
            "sortie du réseau: [0.000 0.000 1.000 0.000 0.000 0.000 0.000 0.000 0.000 0.000] 2\n",
            "sortie attendue : [0.000 0.000 1.000 0.000 0.000 0.000 0.000 0.000 0.000 0.000] 2\n"
          ]
        },
        {
          "output_type": "display_data",
          "data": {
            "text/plain": [
              "<PIL.Image.Image image mode=L size=28x28 at 0x7F6FB01BA490>"
            ],
            "image/png": "[encoded data removed]"
          },
          "metadata": {}
        },
        {
          "output_type": "stream",
          "name": "stdout",
          "text": [
            "image 83\n",
            "sortie du réseau: [0.000 0.000 0.000 0.000 0.000 0.000 0.000 1.000 0.000 0.000] 7\n",
            "sortie attendue : [0.000 0.000 0.000 0.000 0.000 0.000 0.000 1.000 0.000 0.000] 7\n"
          ]
        },
        {
          "output_type": "display_data",
          "data": {
            "text/plain": [
              "<PIL.Image.Image image mode=L size=28x28 at 0x7F6F3E896A60>"
            ],
            "image/png": "[encoded data removed]"
          },
          "metadata": {}
        },
        {
          "output_type": "stream",
          "name": "stdout",
          "text": [
            "image 84\n",
            "sortie du réseau: [0.000 0.000 0.000 0.000 0.000 0.000 0.000 0.000 1.000 0.000] 8\n",
            "sortie attendue : [0.000 0.000 0.000 0.000 0.000 0.000 0.000 0.000 1.000 0.000] 8\n"
          ]
        },
        {
          "output_type": "display_data",
          "data": {
            "text/plain": [
              "<PIL.Image.Image image mode=L size=28x28 at 0x7F6F3EC93040>"
            ],
            "image/png": "[encoded data removed]"
          },
          "metadata": {}
        },
        {
          "output_type": "stream",
          "name": "stdout",
          "text": [
            "image 85\n",
            "sortie du réseau: [0.000 0.000 0.000 0.000 0.999 0.000 0.000 0.000 0.000 0.001] 4\n",
            "sortie attendue : [0.000 0.000 0.000 0.000 1.000 0.000 0.000 0.000 0.000 0.000] 4\n"
          ]
        },
        {
          "output_type": "display_data",
          "data": {
            "text/plain": [
              "<PIL.Image.Image image mode=L size=28x28 at 0x7F6F3E896670>"
            ],
            "image/png": "[encoded data removed]"
          },
          "metadata": {}
        },
        {
          "output_type": "stream",
          "name": "stdout",
          "text": [
            "image 86\n",
            "sortie du réseau: [0.000 0.000 0.000 0.000 0.000 0.000 0.000 1.000 0.000 0.000] 7\n",
            "sortie attendue : [0.000 0.000 0.000 0.000 0.000 0.000 0.000 1.000 0.000 0.000] 7\n"
          ]
        },
        {
          "output_type": "display_data",
          "data": {
            "text/plain": [
              "<PIL.Image.Image image mode=L size=28x28 at 0x7F6F3EA2F220>"
            ],
            "image/png": "[encoded data removed]"
          },
          "metadata": {}
        },
        {
          "output_type": "stream",
          "name": "stdout",
          "text": [
            "image 87\n",
            "sortie du réseau: [0.000 0.000 0.000 0.371 0.000 0.499 0.000 0.130 0.000 0.000] 5\n",
            "sortie attendue : [0.000 0.000 0.000 1.000 0.000 0.000 0.000 0.000 0.000 0.000] 3\n"
          ]
        },
        {
          "output_type": "display_data",
          "data": {
            "text/plain": [
              "<PIL.Image.Image image mode=L size=28x28 at 0x7F6F3E896BE0>"
            ],
            "image/png": "[encoded data removed]"
          },
          "metadata": {}
        },
        {
          "output_type": "stream",
          "name": "stdout",
          "text": [
            "image 88\n",
            "sortie du réseau: [0.000 0.000 0.000 0.000 0.000 0.000 1.000 0.000 0.000 0.000] 6\n",
            "sortie attendue : [0.000 0.000 0.000 0.000 0.000 0.000 1.000 0.000 0.000 0.000] 6\n"
          ]
        },
        {
          "output_type": "display_data",
          "data": {
            "text/plain": [
              "<PIL.Image.Image image mode=L size=28x28 at 0x7F6F3EC93FA0>"
            ],
            "image/png": "[encoded data removed]"
          },
          "metadata": {}
        },
        {
          "output_type": "stream",
          "name": "stdout",
          "text": [
            "image 89\n",
            "sortie du réseau: [0.001 0.998 0.000 0.000 0.000 0.000 0.001 0.000 0.000 0.000] 1\n",
            "sortie attendue : [0.000 1.000 0.000 0.000 0.000 0.000 0.000 0.000 0.000 0.000] 1\n"
          ]
        },
        {
          "output_type": "display_data",
          "data": {
            "text/plain": [
              "<PIL.Image.Image image mode=L size=28x28 at 0x7F6F3E896A60>"
            ],
            "image/png": "[encoded data removed]"
          },
          "metadata": {}
        },
        {
          "output_type": "stream",
          "name": "stdout",
          "text": [
            "image 90\n",
            "sortie du réseau: [0.000 0.000 0.000 0.998 0.000 0.000 0.000 0.000 0.001 0.000] 3\n",
            "sortie attendue : [0.000 0.000 0.000 1.000 0.000 0.000 0.000 0.000 0.000 0.000] 3\n"
          ]
        },
        {
          "output_type": "display_data",
          "data": {
            "text/plain": [
              "<PIL.Image.Image image mode=L size=28x28 at 0x7F6FB01BA490>"
            ],
            "image/png": "[encoded data removed]"
          },
          "metadata": {}
        },
        {
          "output_type": "stream",
          "name": "stdout",
          "text": [
            "image 91\n",
            "sortie du réseau: [0.000 0.000 0.000 0.000 0.000 0.000 1.000 0.000 0.000 0.000] 6\n",
            "sortie attendue : [0.000 0.000 0.000 0.000 0.000 0.000 1.000 0.000 0.000 0.000] 6\n"
          ]
        },
        {
          "output_type": "display_data",
          "data": {
            "text/plain": [
              "<PIL.Image.Image image mode=L size=28x28 at 0x7F6F3E896670>"
            ],
            "image/png": "[encoded data removed]"
          },
          "metadata": {}
        },
        {
          "output_type": "stream",
          "name": "stdout",
          "text": [
            "image 92\n",
            "sortie du réseau: [0.000 0.005 0.001 0.000 0.005 0.001 0.000 0.001 0.637 0.348] 8\n",
            "sortie attendue : [0.000 0.000 0.000 0.000 0.000 0.000 0.000 0.000 0.000 1.000] 9\n"
          ]
        },
        {
          "output_type": "display_data",
          "data": {
            "text/plain": [
              "<PIL.Image.Image image mode=L size=28x28 at 0x7F6F3EA2F280>"
            ],
            "image/png": "[encoded data removed]"
          },
          "metadata": {}
        },
        {
          "output_type": "stream",
          "name": "stdout",
          "text": [
            "image 93\n",
            "sortie du réseau: [0.000 0.000 0.000 1.000 0.000 0.000 0.000 0.000 0.000 0.000] 3\n",
            "sortie attendue : [0.000 0.000 0.000 1.000 0.000 0.000 0.000 0.000 0.000 0.000] 3\n"
          ]
        },
        {
          "output_type": "display_data",
          "data": {
            "text/plain": [
              "<PIL.Image.Image image mode=L size=28x28 at 0x7F6F3E896BE0>"
            ],
            "image/png": "[encoded data removed]"
          },
          "metadata": {}
        },
        {
          "output_type": "stream",
          "name": "stdout",
          "text": [
            "image 94\n",
            "sortie du réseau: [0.000 0.995 0.001 0.000 0.000 0.000 0.000 0.000 0.005 0.000] 1\n",
            "sortie attendue : [0.000 1.000 0.000 0.000 0.000 0.000 0.000 0.000 0.000 0.000] 1\n"
          ]
        },
        {
          "output_type": "display_data",
          "data": {
            "text/plain": [
              "<PIL.Image.Image image mode=L size=28x28 at 0x7F6FB01BAFD0>"
            ],
            "image/png": "[encoded data removed]"
          },
          "metadata": {}
        },
        {
          "output_type": "stream",
          "name": "stdout",
          "text": [
            "image 95\n",
            "sortie du réseau: [0.000 0.000 0.000 0.000 0.955 0.000 0.017 0.000 0.007 0.021] 4\n",
            "sortie attendue : [0.000 0.000 0.000 0.000 1.000 0.000 0.000 0.000 0.000 0.000] 4\n"
          ]
        },
        {
          "output_type": "display_data",
          "data": {
            "text/plain": [
              "<PIL.Image.Image image mode=L size=28x28 at 0x7F6F3E896A60>"
            ],
            "image/png": "[encoded data removed]"
          },
          "metadata": {}
        },
        {
          "output_type": "stream",
          "name": "stdout",
          "text": [
            "image 96\n",
            "sortie du réseau: [0.000 0.699 0.001 0.002 0.008 0.009 0.000 0.005 0.005 0.270] 1\n",
            "sortie attendue : [0.000 1.000 0.000 0.000 0.000 0.000 0.000 0.000 0.000 0.000] 1\n"
          ]
        },
        {
          "output_type": "display_data",
          "data": {
            "text/plain": [
              "<PIL.Image.Image image mode=L size=28x28 at 0x7F6F3E8A4A00>"
            ],
            "image/png": "[encoded data removed]"
          },
          "metadata": {}
        },
        {
          "output_type": "stream",
          "name": "stdout",
          "text": [
            "image 97\n",
            "sortie du réseau: [0.000 0.001 0.002 0.000 0.001 0.000 0.000 0.983 0.013 0.000] 7\n",
            "sortie attendue : [0.000 0.000 0.000 0.000 0.000 0.000 0.000 1.000 0.000 0.000] 7\n"
          ]
        },
        {
          "output_type": "display_data",
          "data": {
            "text/plain": [
              "<PIL.Image.Image image mode=L size=28x28 at 0x7F6F3E896EE0>"
            ],
            "image/png": "[encoded data removed]"
          },
          "metadata": {}
        },
        {
          "output_type": "stream",
          "name": "stdout",
          "text": [
            "image 98\n",
            "sortie du réseau: [0.000 0.000 0.000 0.000 0.000 0.000 1.000 0.000 0.000 0.000] 6\n",
            "sortie attendue : [0.000 0.000 0.000 0.000 0.000 0.000 1.000 0.000 0.000 0.000] 6\n"
          ]
        },
        {
          "output_type": "display_data",
          "data": {
            "text/plain": [
              "<PIL.Image.Image image mode=L size=28x28 at 0x7F6F3EA2F280>"
            ],
            "image/png": "[encoded data removed]"
          },
          "metadata": {}
        },
        {
          "output_type": "stream",
          "name": "stdout",
          "text": [
            "image 99\n",
            "sortie du réseau: [0.000 0.000 0.000 0.000 0.000 0.000 0.000 0.000 0.000 1.000] 9\n",
            "sortie attendue : [0.000 0.000 0.000 0.000 0.000 0.000 0.000 0.000 0.000 1.000] 9\n"
          ]
        },
        {
          "output_type": "display_data",
          "data": {
            "text/plain": [
              "<PIL.Image.Image image mode=L size=28x28 at 0x7F6F3EC93FA0>"
            ],
            "image/png": "[encoded data removed]"
          },
          "metadata": {}
        }
      ]
    }
  ]
}