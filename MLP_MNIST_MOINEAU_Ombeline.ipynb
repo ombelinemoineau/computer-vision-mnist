{
  "nbformat": 4,
  "nbformat_minor": 0,
  "metadata": {
    "colab": {
      "provenance": []
    },
    "kernelspec": {
      "name": "python3",
      "display_name": "Python 3"
    },
    "language_info": {
      "name": "python"
    },
    "accelerator": "GPU",
    "gpuClass": "standard"
  },
  "cells": [
    {
      "cell_type": "markdown",
      "source": [
        "# Multi-layers Perceptron for handwritten digits recognition"
      ],
      "metadata": {
        "id": "vADjshpMEISo"
      }
    },
    {
      "cell_type": "markdown",
      "source": [
        "**Chargement des dépendances**"
      ],
      "metadata": {
        "id": "fQ-ks3P3Pj8w"
      }
    },
    {
      "cell_type": "code",
      "execution_count": null,
      "metadata": {
        "colab": {
          "base_uri": "https://localhost:8080/"
        },
        "id": "entieIwcDyd1",
        "outputId": "12bb95d2-6e52-46d6-d26d-6a9ba14f2aff"
      },
      "outputs": [
        {
          "output_type": "stream",
          "name": "stderr",
          "text": [
            "WARNING:tensorflow:From /usr/local/lib/python3.8/dist-packages/tensorflow/python/compat/v2_compat.py:107: disable_resource_variables (from tensorflow.python.ops.variable_scope) is deprecated and will be removed in a future version.\n",
            "Instructions for updating:\n",
            "non-resource variables are not supported in the long term\n"
          ]
        }
      ],
      "source": [
        "import tensorflow\n",
        "import tensorflow.compat.v1 as tf\n",
        "tf.disable_v2_behavior()\n",
        "import numpy as np\n",
        "import cv2\n",
        "import matplotlib\n",
        "import matplotlib.pyplot as plt\n",
        "from google.colab.patches import cv2_imshow"
      ]
    },
    {
      "cell_type": "markdown",
      "source": [
        "**Chargement du dataset**"
      ],
      "metadata": {
        "id": "SW9Z1ELZP2en"
      }
    },
    {
      "cell_type": "code",
      "source": [
        "train_images=np.fromfile(\"dataset/mnist/train-images.idx3-ubyte\", dtype=np.uint8)[16:].reshape(-1, 784)/255\n",
        "train_labels=np.eye(10)[np.fromfile(\"dataset/mnist/train-labels.idx1-ubyte\", dtype=np.uint8)[8:]]\n",
        "test_images=np.fromfile(\"dataset/mnist/t10k-images.idx3-ubyte\", dtype=np.uint8)[16:].reshape(-1, 784)/255\n",
        "test_labels=np.eye(10)[np.fromfile(\"dataset/mnist/t10k-labels.idx1-ubyte\", dtype=np.uint8)[8:]]"
      ],
      "metadata": {
        "id": "j4h8jCmDFTG5"
      },
      "execution_count": null,
      "outputs": []
    },
    {
      "cell_type": "code",
      "source": [
        "len(train_images)"
      ],
      "metadata": {
        "colab": {
          "base_uri": "https://localhost:8080/"
        },
        "id": "V3oGOHzaFn18",
        "outputId": "9d01fb92-3fef-4853-afe5-26a63b17c845"
      },
      "execution_count": null,
      "outputs": [
        {
          "output_type": "execute_result",
          "data": {
            "text/plain": [
              "60000"
            ]
          },
          "metadata": {},
          "execution_count": 10
        }
      ]
    },
    {
      "cell_type": "markdown",
      "source": [
        "Il y a 60 000 images dans notre jeu de données d'entraînements"
      ],
      "metadata": {
        "id": "o-D_MFAYJu8c"
      }
    },
    {
      "cell_type": "markdown",
      "source": [
        "**Affichage des 10 premières images**"
      ],
      "metadata": {
        "id": "eBwmRx5oP5o8"
      }
    },
    {
      "cell_type": "code",
      "source": [
        "images = train_images[:10]\n",
        "labels = train_labels[:10]\n",
        "\n",
        "%matplotlib inline\n",
        "\n",
        "for index, image in enumerate(images):\n",
        "    print(\"Label:\",labels[index])\n",
        "    print(\"Digit in the image\", np.argmax(labels[index]))\n",
        "    plt.imshow(image.reshape(28,28),cmap='gray')\n",
        "    plt.show()"
      ],
      "metadata": {
        "colab": {
          "base_uri": "https://localhost:8080/",
          "height": 1000
        },
        "id": "BspPRDMMK8T6",
        "outputId": "9934a976-0f75-4d15-f344-e3a2b043cd2d"
      },
      "execution_count": null,
      "outputs": [
        {
          "output_type": "stream",
          "name": "stdout",
          "text": [
            "Label: [0.000 0.000 0.000 0.000 0.000 1.000 0.000 0.000 0.000 0.000]\n",
            "Digit in the image 5\n"
          ]
        },
        {
          "output_type": "display_data",
          "data": {
            "text/plain": [
              "<Figure size 432x288 with 1 Axes>"
            ],
            "image/png": "[encoded data removed]"
          },
          "metadata": {
            "needs_background": "light"
          }
        },
        {
          "output_type": "stream",
          "name": "stdout",
          "text": [
            "Label: [1.000 0.000 0.000 0.000 0.000 0.000 0.000 0.000 0.000 0.000]\n",
            "Digit in the image 0\n"
          ]
        },
        {
          "output_type": "display_data",
          "data": {
            "text/plain": [
              "<Figure size 432x288 with 1 Axes>"
            ],
            "image/png": "[encoded data removed]"
          },
          "metadata": {
            "needs_background": "light"
          }
        },
        {
          "output_type": "stream",
          "name": "stdout",
          "text": [
            "Label: [0.000 0.000 0.000 0.000 1.000 0.000 0.000 0.000 0.000 0.000]\n",
            "Digit in the image 4\n"
          ]
        },
        {
          "output_type": "display_data",
          "data": {
            "text/plain": [
              "<Figure size 432x288 with 1 Axes>"
            ],
            "image/png": "[encoded data removed]"
          },
          "metadata": {
            "needs_background": "light"
          }
        },
        {
          "output_type": "stream",
          "name": "stdout",
          "text": [
            "Label: [0.000 1.000 0.000 0.000 0.000 0.000 0.000 0.000 0.000 0.000]\n",
            "Digit in the image 1\n"
          ]
        },
        {
          "output_type": "display_data",
          "data": {
            "text/plain": [
              "<Figure size 432x288 with 1 Axes>"
            ],
            "image/png": "[encoded data removed]"
          },
          "metadata": {
            "needs_background": "light"
          }
        },
        {
          "output_type": "stream",
          "name": "stdout",
          "text": [
            "Label: [0.000 0.000 0.000 0.000 0.000 0.000 0.000 0.000 0.000 1.000]\n",
            "Digit in the image 9\n"
          ]
        },
        {
          "output_type": "display_data",
          "data": {
            "text/plain": [
              "<Figure size 432x288 with 1 Axes>"
            ],
            "image/png": "[encoded data removed]"
          },
          "metadata": {
            "needs_background": "light"
          }
        },
        {
          "output_type": "stream",
          "name": "stdout",
          "text": [
            "Label: [0.000 0.000 1.000 0.000 0.000 0.000 0.000 0.000 0.000 0.000]\n",
            "Digit in the image 2\n"
          ]
        },
        {
          "output_type": "display_data",
          "data": {
            "text/plain": [
              "<Figure size 432x288 with 1 Axes>"
            ],
            "image/png": "[encoded data removed]"
          },
          "metadata": {
            "needs_background": "light"
          }
        },
        {
          "output_type": "stream",
          "name": "stdout",
          "text": [
            "Label: [0.000 1.000 0.000 0.000 0.000 0.000 0.000 0.000 0.000 0.000]\n",
            "Digit in the image 1\n"
          ]
        },
        {
          "output_type": "display_data",
          "data": {
            "text/plain": [
              "<Figure size 432x288 with 1 Axes>"
            ],
            "image/png": "[encoded data removed]"
          },
          "metadata": {
            "needs_background": "light"
          }
        },
        {
          "output_type": "stream",
          "name": "stdout",
          "text": [
            "Label: [0.000 0.000 0.000 1.000 0.000 0.000 0.000 0.000 0.000 0.000]\n",
            "Digit in the image 3\n"
          ]
        },
        {
          "output_type": "display_data",
          "data": {
            "text/plain": [
              "<Figure size 432x288 with 1 Axes>"
            ],
            "image/png": "[encoded data removed]"
          },
          "metadata": {
            "needs_background": "light"
          }
        },
        {
          "output_type": "stream",
          "name": "stdout",
          "text": [
            "Label: [0.000 1.000 0.000 0.000 0.000 0.000 0.000 0.000 0.000 0.000]\n",
            "Digit in the image 1\n"
          ]
        },
        {
          "output_type": "display_data",
          "data": {
            "text/plain": [
              "<Figure size 432x288 with 1 Axes>"
            ],
            "image/png": "[encoded data removed]"
          },
          "metadata": {
            "needs_background": "light"
          }
        },
        {
          "output_type": "stream",
          "name": "stdout",
          "text": [
            "Label: [0.000 0.000 0.000 0.000 1.000 0.000 0.000 0.000 0.000 0.000]\n",
            "Digit in the image 4\n"
          ]
        },
        {
          "output_type": "display_data",
          "data": {
            "text/plain": [
              "<Figure size 432x288 with 1 Axes>"
            ],
            "image/png": "[encoded data removed]"
          },
          "metadata": {
            "needs_background": "light"
          }
        }
      ]
    },
    {
      "cell_type": "markdown",
      "source": [
        "**Architecture du réseau neuronal**"
      ],
      "metadata": {
        "id": "4s9yXOaaQBGq"
      }
    },
    {
      "cell_type": "code",
      "source": [
        "# Ces 2 placeholders représentent les endroits où seront placés l'image d'entrée et le résultat du réseau\n",
        "ph_images=tf.placeholder(shape=(None, 784), dtype=tf.float32)\n",
        "ph_labels=tf.placeholder(shape=(None, 10), dtype=tf.float32)\n",
        "\n",
        "# Paramètres du réseau\n",
        "nbr_ni=128                # Nombre de neuronnes\n",
        "learning_rate=0.0001\n",
        "taille_batch=100\n",
        "nbr_entrainement=200\n",
        "\n",
        "\"\"\"\n",
        "# On définit les différents poids du réseau wci, les différents biais bci\n",
        "# Les valeurs initiales des bci sont initialisées à 0\n",
        "wci=tf.Variable(tf.truncated_normal(shape=(784, nbr_ni)), dtype=tf.float32)\n",
        "bci=tf.Variable(np.zeros(shape=(nbr_ni)), dtype=tf.float32)\n",
        "\n",
        "# sci est d'abord le résultat de la somme pondrée des entrées, puis sci passe dans la fonction d'activation (sigmoid)\n",
        "sci=tf.matmul(ph_images, wci)+bci\n",
        "sci=tf.nn.sigmoid(sci)\n",
        "\n",
        "# Idem que précédemment mais pour les poids et les biais de sortie\n",
        "wcs=tf.Variable(tf.truncated_normal(shape=(nbr_ni, 10)), dtype=tf.float32)\n",
        "bcs=tf.Variable(np.zeros(shape=(10)), dtype=tf.float32)\n",
        "scs=tf.matmul(sci, wcs)+bcs\n",
        "scso=tf.nn.softmax(scs)\n",
        "\n",
        "# Phase d'apprentissage :\n",
        "# On définit une fonction de perte à optimiser (loss) et la méthode d'optimisation (GradientDescentOptimizer)\n",
        "# La fonction de loss est définie comme la crosse entropie\n",
        "loss=tf.nn.softmax_cross_entropy_with_logits_v2(labels=ph_labels, logits=scs)\n",
        "train=tf.train.GradientDescentOptimizer(learning_rate).minimize(loss)\n",
        "accuracy=tf.reduce_mean(tf.cast(tf.equal(tf.argmax(scso, 1), tf.argmax(ph_labels, 1)), dtype=tf.float32))\n",
        "\"\"\""
      ],
      "metadata": {
        "id": "ATxWkzQZJPvZ"
      },
      "execution_count": null,
      "outputs": []
    },
    {
      "cell_type": "code",
      "source": [
        "# Fonction pour ajouter une couche, les paramètres sont : le flux de donnée entrant (input), la taille du flux (size_in) et la taille de la couche de neurones (size_out).\n",
        "def fcl(input,size_in,size_out):\n",
        "    W = tf.Variable(tf.truncated_normal([size_in,size_out], stddev=0.1))\n",
        "    b = tf.Variable(tf.constant(0.1,shape=[1,size_out]))\n",
        "    output = tf.matmul(input, W)\n",
        "    output = tf.add(output, b)\n",
        "    return output\n",
        "\n",
        "# Couche 1\n",
        "layer_1 = fcl(ph_images,784,128)\n",
        "layer_1 = tf.nn.relu(layer_1) #max(x,0)\n",
        "\n",
        "# Couche 2\n",
        "layer_2 = fcl(layer_1,128,64)\n",
        "layer_2 = tf.nn.relu(layer_2)\n",
        "\n",
        "scs = fcl(layer_2,64,10)\n",
        "\n",
        "loss=tf.nn.softmax_cross_entropy_with_logits_v2(labels=ph_labels, logits=scs)\n",
        "train=tf.train.GradientDescentOptimizer(learning_rate).minimize(loss)\n",
        "accuracy=tf.reduce_mean(tf.cast(tf.equal(tf.argmax(scs, 1), tf.argmax(ph_labels, 1)), dtype=tf.float32))"
      ],
      "metadata": {
        "id": "9mmo6pyT4jIk"
      },
      "execution_count": null,
      "outputs": []
    },
    {
      "cell_type": "code",
      "source": [
        "# Cette session regroupe les différentes itérations d'apprentissage et les prédictions sur la base de test :\n",
        "# Fonction qui entraînera notre modèle\n",
        "with tf.Session() as s:\n",
        "\n",
        "    # Initialisation des variables\n",
        "    s.run(tf.global_variables_initializer())\n",
        "\n",
        "    tab_acc_train=[]\n",
        "    tab_acc_test=[]\n",
        "\n",
        "    for id_entrainement in range(nbr_entrainement):\n",
        "        print(\"ID entrainement\", id_entrainement)\n",
        "        for batch in range(0, len(train_images), taille_batch):\n",
        "            # lancement de l'apprentissage en passant la commande \"train\". feed_dict est l'option désignant ce qui est\n",
        "            # placé dans les placeholders\n",
        "            s.run(train, feed_dict={\n",
        "                ph_images: train_images[batch:batch+taille_batch],\n",
        "                ph_labels: train_labels[batch:batch+taille_batch]\n",
        "            })\n",
        "\n",
        "        # Prédiction du modèle sur les batchs du dataset de training\n",
        "        tab_acc=[]\n",
        "        for batch in range(0, len(train_images), taille_batch):\n",
        "            # lancement de la prédiction en passant la commande \"accuracy\". feed_dict est l'option désignant ce qui est\n",
        "            # placé dans les placeholders\n",
        "            acc=s.run(accuracy, feed_dict={\n",
        "                ph_images: train_images[batch:batch+taille_batch],\n",
        "                ph_labels: train_labels[batch:batch+taille_batch]\n",
        "            })\n",
        "            # création le tableau des accuracies\n",
        "            tab_acc.append(acc)\n",
        "\n",
        "        # calcul de la moyenne des accuracies\n",
        "        print(\"accuracy train:\", np.mean(tab_acc))\n",
        "        tab_acc_train.append(1-np.mean(tab_acc))\n",
        "\n",
        "        # Prédiction du modèle sur les batchs du dataset de test\n",
        "        tab_acc=[]\n",
        "        for batch in range(0, len(test_images), taille_batch):\n",
        "            acc=s.run(accuracy, feed_dict={\n",
        "                ph_images: test_images[batch:batch+taille_batch],\n",
        "                ph_labels: test_labels[batch:batch+taille_batch]\n",
        "            })\n",
        "            tab_acc.append(acc)\n",
        "        print(\"accuracy test :\", np.mean(tab_acc))\n",
        "        tab_acc_test.append(1-np.mean(tab_acc))\n",
        "        resulat=s.run(scs, feed_dict={ph_images: test_images[0:taille_batch]})\n",
        "        # Dernière ligne applique de modèle obtenu sur un batch d'images de test. Le résultat sera ensuite affiché (courbe et décision)."
      ],
      "metadata": {
        "colab": {
          "base_uri": "https://localhost:8080/"
        },
        "id": "BTwbeDafOL6i",
        "outputId": "d1f17853-e218-4e39-b25e-db401235e558"
      },
      "execution_count": null,
      "outputs": [
        {
          "output_type": "stream",
          "name": "stdout",
          "text": [
            "ID entrainement 0\n",
            "accuracy train: 0.8099167\n",
            "accuracy test : 0.8173\n",
            "ID entrainement 1\n",
            "accuracy train: 0.86628336\n",
            "accuracy test : 0.8706\n",
            "ID entrainement 2\n",
            "accuracy train: 0.8874833\n",
            "accuracy test : 0.89239997\n",
            "ID entrainement 3\n",
            "accuracy train: 0.8990333\n",
            "accuracy test : 0.9026001\n",
            "ID entrainement 4\n",
            "accuracy train: 0.9076\n",
            "accuracy test : 0.90949994\n",
            "ID entrainement 5\n",
            "accuracy train: 0.91353333\n",
            "accuracy test : 0.9157\n",
            "ID entrainement 6\n",
            "accuracy train: 0.91835004\n",
            "accuracy test : 0.92\n",
            "ID entrainement 7\n",
            "accuracy train: 0.92241657\n",
            "accuracy test : 0.9244\n",
            "ID entrainement 8\n",
            "accuracy train: 0.92630005\n",
            "accuracy test : 0.9273\n",
            "ID entrainement 9\n",
            "accuracy train: 0.92963326\n",
            "accuracy test : 0.93109995\n",
            "ID entrainement 10\n",
            "accuracy train: 0.9324666\n",
            "accuracy test : 0.9342\n",
            "ID entrainement 11\n",
            "accuracy train: 0.93523335\n",
            "accuracy test : 0.93619996\n",
            "ID entrainement 12\n",
            "accuracy train: 0.9376166\n",
            "accuracy test : 0.93860006\n",
            "ID entrainement 13\n",
            "accuracy train: 0.93985\n",
            "accuracy test : 0.9407\n",
            "ID entrainement 14\n",
            "accuracy train: 0.9425167\n",
            "accuracy test : 0.94310004\n",
            "ID entrainement 15\n",
            "accuracy train: 0.94478333\n",
            "accuracy test : 0.9449\n",
            "ID entrainement 16\n",
            "accuracy train: 0.94608337\n",
            "accuracy test : 0.9462\n",
            "ID entrainement 17\n",
            "accuracy train: 0.94755006\n",
            "accuracy test : 0.9471\n",
            "ID entrainement 18\n",
            "accuracy train: 0.94895\n",
            "accuracy test : 0.949\n",
            "ID entrainement 19\n",
            "accuracy train: 0.9505666\n",
            "accuracy test : 0.95100003\n",
            "ID entrainement 20\n",
            "accuracy train: 0.9520334\n",
            "accuracy test : 0.9521\n",
            "ID entrainement 21\n",
            "accuracy train: 0.95343333\n",
            "accuracy test : 0.95339996\n",
            "ID entrainement 22\n",
            "accuracy train: 0.95484996\n",
            "accuracy test : 0.9542999\n",
            "ID entrainement 23\n",
            "accuracy train: 0.9562333\n",
            "accuracy test : 0.9548999\n",
            "ID entrainement 24\n",
            "accuracy train: 0.9574833\n",
            "accuracy test : 0.9561\n",
            "ID entrainement 25\n",
            "accuracy train: 0.9584666\n",
            "accuracy test : 0.9572\n",
            "ID entrainement 26\n",
            "accuracy train: 0.9597666\n",
            "accuracy test : 0.9577\n",
            "ID entrainement 27\n",
            "accuracy train: 0.96059996\n",
            "accuracy test : 0.9587\n",
            "ID entrainement 28\n",
            "accuracy train: 0.9615333\n",
            "accuracy test : 0.9592001\n",
            "ID entrainement 29\n",
            "accuracy train: 0.9624333\n",
            "accuracy test : 0.9601\n",
            "ID entrainement 30\n",
            "accuracy train: 0.96335\n",
            "accuracy test : 0.9600001\n",
            "ID entrainement 31\n",
            "accuracy train: 0.96418333\n",
            "accuracy test : 0.96099997\n",
            "ID entrainement 32\n",
            "accuracy train: 0.96511656\n",
            "accuracy test : 0.96160007\n",
            "ID entrainement 33\n",
            "accuracy train: 0.9658167\n",
            "accuracy test : 0.9621999\n",
            "ID entrainement 34\n",
            "accuracy train: 0.96661663\n",
            "accuracy test : 0.96300006\n",
            "ID entrainement 35\n",
            "accuracy train: 0.96736676\n",
            "accuracy test : 0.96340007\n",
            "ID entrainement 36\n",
            "accuracy train: 0.96795005\n",
            "accuracy test : 0.96389997\n",
            "ID entrainement 37\n",
            "accuracy train: 0.96868336\n",
            "accuracy test : 0.96410006\n",
            "ID entrainement 38\n",
            "accuracy train: 0.96940005\n",
            "accuracy test : 0.96439993\n",
            "ID entrainement 39\n",
            "accuracy train: 0.97001666\n",
            "accuracy test : 0.96480006\n",
            "ID entrainement 40\n",
            "accuracy train: 0.9706667\n",
            "accuracy test : 0.96509993\n",
            "ID entrainement 41\n",
            "accuracy train: 0.97130007\n",
            "accuracy test : 0.9654\n",
            "ID entrainement 42\n",
            "accuracy train: 0.97176677\n",
            "accuracy test : 0.9657999\n",
            "ID entrainement 43\n",
            "accuracy train: 0.9724834\n",
            "accuracy test : 0.96559995\n",
            "ID entrainement 44\n",
            "accuracy train: 0.97293335\n",
            "accuracy test : 0.9659999\n",
            "ID entrainement 45\n",
            "accuracy train: 0.97345\n",
            "accuracy test : 0.9661999\n",
            "ID entrainement 46\n",
            "accuracy train: 0.97400004\n",
            "accuracy test : 0.9665999\n",
            "ID entrainement 47\n",
            "accuracy train: 0.97449994\n",
            "accuracy test : 0.96679986\n",
            "ID entrainement 48\n",
            "accuracy train: 0.9750833\n",
            "accuracy test : 0.9671999\n",
            "ID entrainement 49\n",
            "accuracy train: 0.97551674\n",
            "accuracy test : 0.9674999\n",
            "ID entrainement 50\n",
            "accuracy train: 0.9760001\n",
            "accuracy test : 0.9676999\n",
            "ID entrainement 51\n",
            "accuracy train: 0.97636676\n",
            "accuracy test : 0.9677999\n",
            "ID entrainement 52\n",
            "accuracy train: 0.97676665\n",
            "accuracy test : 0.96799994\n",
            "ID entrainement 53\n",
            "accuracy train: 0.9771334\n",
            "accuracy test : 0.9684999\n",
            "ID entrainement 54\n",
            "accuracy train: 0.97748333\n",
            "accuracy test : 0.96859986\n",
            "ID entrainement 55\n",
            "accuracy train: 0.97783333\n",
            "accuracy test : 0.9689999\n",
            "ID entrainement 56\n",
            "accuracy train: 0.9782668\n",
            "accuracy test : 0.96959996\n",
            "ID entrainement 57\n",
            "accuracy train: 0.9786001\n",
            "accuracy test : 0.97\n",
            "ID entrainement 58\n",
            "accuracy train: 0.9788834\n",
            "accuracy test : 0.97019994\n",
            "ID entrainement 59\n",
            "accuracy train: 0.97940004\n",
            "accuracy test : 0.97040004\n",
            "ID entrainement 60\n",
            "accuracy train: 0.97976667\n",
            "accuracy test : 0.97040004\n",
            "ID entrainement 61\n",
            "accuracy train: 0.98023325\n",
            "accuracy test : 0.97040004\n",
            "ID entrainement 62\n",
            "accuracy train: 0.98053324\n",
            "accuracy test : 0.97050005\n",
            "ID entrainement 63\n",
            "accuracy train: 0.98096657\n",
            "accuracy test : 0.9710999\n",
            "ID entrainement 64\n",
            "accuracy train: 0.9812166\n",
            "accuracy test : 0.97120005\n",
            "ID entrainement 65\n",
            "accuracy train: 0.98165\n",
            "accuracy test : 0.97150004\n",
            "ID entrainement 66\n",
            "accuracy train: 0.9821\n",
            "accuracy test : 0.97160006\n",
            "ID entrainement 67\n",
            "accuracy train: 0.9825167\n",
            "accuracy test : 0.9714\n",
            "ID entrainement 68\n",
            "accuracy train: 0.9828333\n",
            "accuracy test : 0.9717001\n",
            "ID entrainement 69\n",
            "accuracy train: 0.9830666\n",
            "accuracy test : 0.97200006\n",
            "ID entrainement 70\n",
            "accuracy train: 0.9833667\n",
            "accuracy test : 0.97230005\n",
            "ID entrainement 71\n",
            "accuracy train: 0.9836334\n",
            "accuracy test : 0.97230005\n",
            "ID entrainement 72\n",
            "accuracy train: 0.9838834\n",
            "accuracy test : 0.9725999\n",
            "ID entrainement 73\n",
            "accuracy train: 0.9841166\n",
            "accuracy test : 0.9725\n",
            "ID entrainement 74\n",
            "accuracy train: 0.9843333\n",
            "accuracy test : 0.9725\n",
            "ID entrainement 75\n",
            "accuracy train: 0.98468333\n",
            "accuracy test : 0.9728\n",
            "ID entrainement 76\n",
            "accuracy train: 0.9849167\n",
            "accuracy test : 0.97269994\n",
            "ID entrainement 77\n",
            "accuracy train: 0.9851666\n",
            "accuracy test : 0.9728999\n",
            "ID entrainement 78\n",
            "accuracy train: 0.98541665\n",
            "accuracy test : 0.97299993\n",
            "ID entrainement 79\n",
            "accuracy train: 0.9856333\n",
            "accuracy test : 0.97309995\n",
            "ID entrainement 80\n",
            "accuracy train: 0.98595\n",
            "accuracy test : 0.97360003\n",
            "ID entrainement 81\n",
            "accuracy train: 0.98625\n",
            "accuracy test : 0.97380006\n",
            "ID entrainement 82\n",
            "accuracy train: 0.98641664\n",
            "accuracy test : 0.97400004\n",
            "ID entrainement 83\n",
            "accuracy train: 0.9867166\n",
            "accuracy test : 0.97379994\n",
            "ID entrainement 84\n",
            "accuracy train: 0.98705\n",
            "accuracy test : 0.97400004\n",
            "ID entrainement 85\n",
            "accuracy train: 0.98728335\n",
            "accuracy test : 0.97409993\n",
            "ID entrainement 86\n",
            "accuracy train: 0.9875\n",
            "accuracy test : 0.97420007\n",
            "ID entrainement 87\n",
            "accuracy train: 0.98775005\n",
            "accuracy test : 0.9743\n",
            "ID entrainement 88\n",
            "accuracy train: 0.9879666\n",
            "accuracy test : 0.97409993\n",
            "ID entrainement 89\n",
            "accuracy train: 0.98823345\n",
            "accuracy test : 0.97409993\n",
            "ID entrainement 90\n",
            "accuracy train: 0.98835003\n",
            "accuracy test : 0.9739\n",
            "ID entrainement 91\n",
            "accuracy train: 0.98863333\n",
            "accuracy test : 0.97400004\n",
            "ID entrainement 92\n",
            "accuracy train: 0.98880005\n",
            "accuracy test : 0.9739\n",
            "ID entrainement 93\n",
            "accuracy train: 0.9890333\n",
            "accuracy test : 0.97400004\n",
            "ID entrainement 94\n",
            "accuracy train: 0.9892333\n",
            "accuracy test : 0.97400004\n",
            "ID entrainement 95\n",
            "accuracy train: 0.9894334\n",
            "accuracy test : 0.97409993\n",
            "ID entrainement 96\n",
            "accuracy train: 0.98964995\n",
            "accuracy test : 0.97409993\n",
            "ID entrainement 97\n",
            "accuracy train: 0.98983335\n",
            "accuracy test : 0.97379994\n",
            "ID entrainement 98\n",
            "accuracy train: 0.98996663\n",
            "accuracy test : 0.9739\n",
            "ID entrainement 99\n",
            "accuracy train: 0.99009997\n",
            "accuracy test : 0.97379994\n",
            "ID entrainement 100\n",
            "accuracy train: 0.9902666\n",
            "accuracy test : 0.9739\n",
            "ID entrainement 101\n",
            "accuracy train: 0.9903833\n",
            "accuracy test : 0.97400004\n",
            "ID entrainement 102\n",
            "accuracy train: 0.9906\n",
            "accuracy test : 0.97409993\n",
            "ID entrainement 103\n",
            "accuracy train: 0.9907499\n",
            "accuracy test : 0.97409993\n",
            "ID entrainement 104\n",
            "accuracy train: 0.9909167\n",
            "accuracy test : 0.97400004\n",
            "ID entrainement 105\n",
            "accuracy train: 0.9909667\n",
            "accuracy test : 0.9746\n",
            "ID entrainement 106\n",
            "accuracy train: 0.9911833\n",
            "accuracy test : 0.97470003\n",
            "ID entrainement 107\n",
            "accuracy train: 0.99128336\n",
            "accuracy test : 0.97480005\n",
            "ID entrainement 108\n",
            "accuracy train: 0.9913834\n",
            "accuracy test : 0.97480005\n",
            "ID entrainement 109\n",
            "accuracy train: 0.99154997\n",
            "accuracy test : 0.97470003\n",
            "ID entrainement 110\n",
            "accuracy train: 0.99165\n",
            "accuracy test : 0.9746\n",
            "ID entrainement 111\n",
            "accuracy train: 0.9917333\n",
            "accuracy test : 0.97450006\n",
            "ID entrainement 112\n",
            "accuracy train: 0.9919167\n",
            "accuracy test : 0.9746\n",
            "ID entrainement 113\n",
            "accuracy train: 0.99203336\n",
            "accuracy test : 0.9746\n",
            "ID entrainement 114\n",
            "accuracy train: 0.99216664\n",
            "accuracy test : 0.9746\n",
            "ID entrainement 115\n",
            "accuracy train: 0.9923834\n",
            "accuracy test : 0.97479993\n",
            "ID entrainement 116\n",
            "accuracy train: 0.9925167\n",
            "accuracy test : 0.97479993\n",
            "ID entrainement 117\n",
            "accuracy train: 0.9926166\n",
            "accuracy test : 0.97479993\n",
            "ID entrainement 118\n",
            "accuracy train: 0.9927\n",
            "accuracy test : 0.9749\n",
            "ID entrainement 119\n",
            "accuracy train: 0.9928167\n",
            "accuracy test : 0.9749\n",
            "ID entrainement 120\n",
            "accuracy train: 0.99291664\n",
            "accuracy test : 0.97480005\n",
            "ID entrainement 121\n",
            "accuracy train: 0.99305004\n",
            "accuracy test : 0.9746999\n",
            "ID entrainement 122\n",
            "accuracy train: 0.99320006\n",
            "accuracy test : 0.97480005\n",
            "ID entrainement 123\n",
            "accuracy train: 0.99335\n",
            "accuracy test : 0.97470003\n",
            "ID entrainement 124\n",
            "accuracy train: 0.9934666\n",
            "accuracy test : 0.97470003\n",
            "ID entrainement 125\n",
            "accuracy train: 0.99363333\n",
            "accuracy test : 0.97470003\n",
            "ID entrainement 126\n",
            "accuracy train: 0.99375\n",
            "accuracy test : 0.97470003\n",
            "ID entrainement 127\n",
            "accuracy train: 0.9938332\n",
            "accuracy test : 0.97480005\n",
            "ID entrainement 128\n",
            "accuracy train: 0.99391663\n",
            "accuracy test : 0.97470003\n",
            "ID entrainement 129\n",
            "accuracy train: 0.9940668\n",
            "accuracy test : 0.97470003\n",
            "ID entrainement 130\n",
            "accuracy train: 0.99420005\n",
            "accuracy test : 0.97470003\n",
            "ID entrainement 131\n",
            "accuracy train: 0.9943001\n",
            "accuracy test : 0.97479993\n",
            "ID entrainement 132\n",
            "accuracy train: 0.99436665\n",
            "accuracy test : 0.9749\n",
            "ID entrainement 133\n",
            "accuracy train: 0.9944334\n",
            "accuracy test : 0.9749\n",
            "ID entrainement 134\n",
            "accuracy train: 0.99448335\n",
            "accuracy test : 0.975\n",
            "ID entrainement 135\n",
            "accuracy train: 0.9946167\n",
            "accuracy test : 0.975\n",
            "ID entrainement 136\n",
            "accuracy train: 0.9946999\n",
            "accuracy test : 0.97519994\n",
            "ID entrainement 137\n",
            "accuracy train: 0.99480003\n",
            "accuracy test : 0.97519994\n",
            "ID entrainement 138\n",
            "accuracy train: 0.9949666\n",
            "accuracy test : 0.9753\n",
            "ID entrainement 139\n",
            "accuracy train: 0.99508333\n",
            "accuracy test : 0.9753\n",
            "ID entrainement 140\n",
            "accuracy train: 0.99514997\n",
            "accuracy test : 0.9753\n",
            "ID entrainement 141\n",
            "accuracy train: 0.99525005\n",
            "accuracy test : 0.9753\n",
            "ID entrainement 142\n",
            "accuracy train: 0.99526674\n",
            "accuracy test : 0.9753\n",
            "ID entrainement 143\n",
            "accuracy train: 0.99534994\n",
            "accuracy test : 0.97519994\n",
            "ID entrainement 144\n",
            "accuracy train: 0.9954666\n",
            "accuracy test : 0.97519994\n",
            "ID entrainement 145\n",
            "accuracy train: 0.9955833\n",
            "accuracy test : 0.975\n",
            "ID entrainement 146\n",
            "accuracy train: 0.9956834\n",
            "accuracy test : 0.9750999\n",
            "ID entrainement 147\n",
            "accuracy train: 0.99579996\n",
            "accuracy test : 0.97519994\n",
            "ID entrainement 148\n",
            "accuracy train: 0.99598336\n",
            "accuracy test : 0.97519994\n",
            "ID entrainement 149\n",
            "accuracy train: 0.9960333\n",
            "accuracy test : 0.9750999\n",
            "ID entrainement 150\n",
            "accuracy train: 0.9961667\n",
            "accuracy test : 0.9750999\n",
            "ID entrainement 151\n",
            "accuracy train: 0.99625\n",
            "accuracy test : 0.97519994\n",
            "ID entrainement 152\n",
            "accuracy train: 0.9962999\n",
            "accuracy test : 0.97510004\n",
            "ID entrainement 153\n",
            "accuracy train: 0.9964667\n",
            "accuracy test : 0.97520006\n",
            "ID entrainement 154\n",
            "accuracy train: 0.99654996\n",
            "accuracy test : 0.97490007\n",
            "ID entrainement 155\n",
            "accuracy train: 0.9966166\n",
            "accuracy test : 0.97490007\n",
            "ID entrainement 156\n",
            "accuracy train: 0.99665\n",
            "accuracy test : 0.97490007\n",
            "ID entrainement 157\n",
            "accuracy train: 0.99675006\n",
            "accuracy test : 0.975\n",
            "ID entrainement 158\n",
            "accuracy train: 0.99688333\n",
            "accuracy test : 0.97510004\n",
            "ID entrainement 159\n",
            "accuracy train: 0.99696666\n",
            "accuracy test : 0.97520006\n",
            "ID entrainement 160\n",
            "accuracy train: 0.9970167\n",
            "accuracy test : 0.97520006\n",
            "ID entrainement 161\n",
            "accuracy train: 0.9971\n",
            "accuracy test : 0.97510004\n",
            "ID entrainement 162\n",
            "accuracy train: 0.9971666\n",
            "accuracy test : 0.97510004\n",
            "ID entrainement 163\n",
            "accuracy train: 0.99726665\n",
            "accuracy test : 0.97510004\n",
            "ID entrainement 164\n",
            "accuracy train: 0.99728334\n",
            "accuracy test : 0.9753\n",
            "ID entrainement 165\n",
            "accuracy train: 0.99736667\n",
            "accuracy test : 0.975\n",
            "ID entrainement 166\n",
            "accuracy train: 0.99741656\n",
            "accuracy test : 0.97510004\n",
            "ID entrainement 167\n",
            "accuracy train: 0.9975334\n",
            "accuracy test : 0.97510004\n",
            "ID entrainement 168\n",
            "accuracy train: 0.9975501\n",
            "accuracy test : 0.97510004\n",
            "ID entrainement 169\n",
            "accuracy train: 0.9975832\n",
            "accuracy test : 0.97510004\n",
            "ID entrainement 170\n",
            "accuracy train: 0.9975999\n",
            "accuracy test : 0.97510004\n",
            "ID entrainement 171\n",
            "accuracy train: 0.9976666\n",
            "accuracy test : 0.97510004\n",
            "ID entrainement 172\n",
            "accuracy train: 0.9977\n",
            "accuracy test : 0.97510004\n",
            "ID entrainement 173\n",
            "accuracy train: 0.99775004\n",
            "accuracy test : 0.97510004\n",
            "ID entrainement 174\n",
            "accuracy train: 0.9978\n",
            "accuracy test : 0.97510004\n",
            "ID entrainement 175\n",
            "accuracy train: 0.99786663\n",
            "accuracy test : 0.97510004\n",
            "ID entrainement 176\n",
            "accuracy train: 0.99791664\n",
            "accuracy test : 0.975\n",
            "ID entrainement 177\n",
            "accuracy train: 0.9979833\n",
            "accuracy test : 0.975\n",
            "ID entrainement 178\n",
            "accuracy train: 0.9980499\n",
            "accuracy test : 0.97490007\n",
            "ID entrainement 179\n",
            "accuracy train: 0.9980833\n",
            "accuracy test : 0.97490007\n",
            "ID entrainement 180\n",
            "accuracy train: 0.99813336\n",
            "accuracy test : 0.97490007\n",
            "ID entrainement 181\n",
            "accuracy train: 0.99815005\n",
            "accuracy test : 0.97490007\n",
            "ID entrainement 182\n",
            "accuracy train: 0.99821675\n",
            "accuracy test : 0.9750001\n",
            "ID entrainement 183\n",
            "accuracy train: 0.9982333\n",
            "accuracy test : 0.975\n",
            "ID entrainement 184\n",
            "accuracy train: 0.9982834\n",
            "accuracy test : 0.97490007\n",
            "ID entrainement 185\n",
            "accuracy train: 0.9982667\n",
            "accuracy test : 0.97520006\n",
            "ID entrainement 186\n",
            "accuracy train: 0.9982834\n",
            "accuracy test : 0.97510004\n",
            "ID entrainement 187\n",
            "accuracy train: 0.9983833\n",
            "accuracy test : 0.97510004\n",
            "ID entrainement 188\n",
            "accuracy train: 0.99843335\n",
            "accuracy test : 0.97510004\n",
            "ID entrainement 189\n",
            "accuracy train: 0.99849993\n",
            "accuracy test : 0.97510004\n",
            "ID entrainement 190\n",
            "accuracy train: 0.99848336\n",
            "accuracy test : 0.97520006\n",
            "ID entrainement 191\n",
            "accuracy train: 0.9985667\n",
            "accuracy test : 0.97520006\n",
            "ID entrainement 192\n",
            "accuracy train: 0.9985834\n",
            "accuracy test : 0.9752001\n",
            "ID entrainement 193\n",
            "accuracy train: 0.99859995\n",
            "accuracy test : 0.975\n",
            "ID entrainement 194\n",
            "accuracy train: 0.99859995\n",
            "accuracy test : 0.97540003\n",
            "ID entrainement 195\n",
            "accuracy train: 0.99865\n",
            "accuracy test : 0.97510004\n",
            "ID entrainement 196\n",
            "accuracy train: 0.99871665\n",
            "accuracy test : 0.97519994\n",
            "ID entrainement 197\n",
            "accuracy train: 0.99873334\n",
            "accuracy test : 0.97520006\n",
            "ID entrainement 198\n",
            "accuracy train: 0.99875\n",
            "accuracy test : 0.9753001\n",
            "ID entrainement 199\n",
            "accuracy train: 0.9988166\n",
            "accuracy test : 0.97540003\n"
          ]
        }
      ]
    },
    {
      "cell_type": "markdown",
      "source": [
        "**Affichage de la courbe de l'évolution de l'apprentissage au cours des itérations**"
      ],
      "metadata": {
        "id": "HPNcVvzoQKWX"
      }
    },
    {
      "cell_type": "code",
      "source": [
        "plt.ylim(0, 1)\n",
        "plt.grid()\n",
        "plt.plot(tab_acc_train, label=\"Train error\")\n",
        "plt.plot(tab_acc_test, label=\"Test error\")\n",
        "plt.legend(loc=\"upper right\")\n",
        "plt.show()"
      ],
      "metadata": {
        "colab": {
          "base_uri": "https://localhost:8080/",
          "height": 269
        },
        "id": "vGYWY6q8O7nT",
        "outputId": "ac28c119-31a7-4e50-eb3d-b12ecb89cd0e"
      },
      "execution_count": null,
      "outputs": [
        {
          "output_type": "display_data",
          "data": {
            "text/plain": [
              "<Figure size 432x288 with 1 Axes>"
            ],
            "image/png": "[encoded data removed]"
          },
          "metadata": {
            "needs_background": "light"
          }
        }
      ]
    },
    {
      "cell_type": "markdown",
      "source": [
        "**Affichage du résultat obtenu pour chaque image test du batch**"
      ],
      "metadata": {
        "id": "MwRIw3vwQONo"
      }
    },
    {
      "cell_type": "code",
      "source": [
        "np.set_printoptions(formatter={'float': '{:0.3f}'.format})\n",
        "for image in range(taille_batch):\n",
        "     print(\"image\", image)\n",
        "     print(\"sortie du réseau:\", resulat[image], np.argmax(resulat[image]))\n",
        "     print(\"sortie attendue :\", test_labels[image], np.argmax(test_labels[image]))\n",
        "     cv2_imshow(test_images[image].reshape(28, 28))\n",
        "     if cv2.waitKey()&0xFF==ord('q'):\n",
        "         break"
      ],
      "metadata": {
        "colab": {
          "base_uri": "https://localhost:8080/",
          "height": 1000
        },
        "id": "_NGsc15hPQV7",
        "outputId": "88ed29c2-84f5-4a0d-f4cf-1afda03493f0"
      },
      "execution_count": null,
      "outputs": [
        {
          "output_type": "stream",
          "name": "stdout",
          "text": [
            "image 0\n",
            "sortie du réseau: [0.000 0.000 0.000 0.000 0.000 0.000 0.000 1.000 0.000 0.000] 7\n",
            "sortie attendue : [0.000 0.000 0.000 0.000 0.000 0.000 0.000 1.000 0.000 0.000] 7\n"
          ]
        },
        {
          "output_type": "display_data",
          "data": {
            "text/plain": [
              "<PIL.Image.Image image mode=L size=28x28 at 0x7FF92C193250>"
            ],
            "image/png": "[encoded data removed]"
          },
          "metadata": {}
        },
        {
          "output_type": "stream",
          "name": "stdout",
          "text": [
            "image 1\n",
            "sortie du réseau: [0.003 0.000 0.990 0.000 0.000 0.003 0.001 0.000 0.002 0.000] 2\n",
            "sortie attendue : [0.000 0.000 1.000 0.000 0.000 0.000 0.000 0.000 0.000 0.000] 2\n"
          ]
        },
        {
          "output_type": "display_data",
          "data": {
            "text/plain": [
              "<PIL.Image.Image image mode=L size=28x28 at 0x7FF919659E20>"
            ],
            "image/png": "[encoded data removed]"
          },
          "metadata": {}
        },
        {
          "output_type": "stream",
          "name": "stdout",
          "text": [
            "image 2\n",
            "sortie du réseau: [0.000 0.980 0.018 0.000 0.000 0.000 0.001 0.000 0.000 0.000] 1\n",
            "sortie attendue : [0.000 1.000 0.000 0.000 0.000 0.000 0.000 0.000 0.000 0.000] 1\n"
          ]
        },
        {
          "output_type": "display_data",
          "data": {
            "text/plain": [
              "<PIL.Image.Image image mode=L size=28x28 at 0x7FF92C1932E0>"
            ],
            "image/png": "[encoded data removed]"
          },
          "metadata": {}
        },
        {
          "output_type": "stream",
          "name": "stdout",
          "text": [
            "image 3\n",
            "sortie du réseau: [1.000 0.000 0.000 0.000 0.000 0.000 0.000 0.000 0.000 0.000] 0\n",
            "sortie attendue : [1.000 0.000 0.000 0.000 0.000 0.000 0.000 0.000 0.000 0.000] 0\n"
          ]
        },
        {
          "output_type": "display_data",
          "data": {
            "text/plain": [
              "<PIL.Image.Image image mode=L size=28x28 at 0x7FF92C193250>"
            ],
            "image/png": "[encoded data removed]"
          },
          "metadata": {}
        },
        {
          "output_type": "stream",
          "name": "stdout",
          "text": [
            "image 4\n",
            "sortie du réseau: [0.000 0.000 0.000 0.000 1.000 0.000 0.000 0.000 0.000 0.000] 4\n",
            "sortie attendue : [0.000 0.000 0.000 0.000 1.000 0.000 0.000 0.000 0.000 0.000] 4\n"
          ]
        },
        {
          "output_type": "display_data",
          "data": {
            "text/plain": [
              "<PIL.Image.Image image mode=L size=28x28 at 0x7FF91968D460>"
            ],
            "image/png": "[encoded data removed]"
          },
          "metadata": {}
        },
        {
          "output_type": "stream",
          "name": "stdout",
          "text": [
            "image 5\n",
            "sortie du réseau: [0.000 0.988 0.002 0.001 0.000 0.000 0.000 0.007 0.000 0.000] 1\n",
            "sortie attendue : [0.000 1.000 0.000 0.000 0.000 0.000 0.000 0.000 0.000 0.000] 1\n"
          ]
        },
        {
          "output_type": "display_data",
          "data": {
            "text/plain": [
              "<PIL.Image.Image image mode=L size=28x28 at 0x7FF91968D100>"
            ],
            "image/png": "[encoded data removed]"
          },
          "metadata": {}
        },
        {
          "output_type": "stream",
          "name": "stdout",
          "text": [
            "image 6\n",
            "sortie du réseau: [0.000 0.000 0.000 0.000 0.958 0.004 0.000 0.000 0.037 0.001] 4\n",
            "sortie attendue : [0.000 0.000 0.000 0.000 1.000 0.000 0.000 0.000 0.000 0.000] 4\n"
          ]
        },
        {
          "output_type": "display_data",
          "data": {
            "text/plain": [
              "<PIL.Image.Image image mode=L size=28x28 at 0x7FF91968D550>"
            ],
            "image/png": "[encoded data removed]"
          },
          "metadata": {}
        },
        {
          "output_type": "stream",
          "name": "stdout",
          "text": [
            "image 7\n",
            "sortie du réseau: [0.000 0.156 0.000 0.003 0.023 0.153 0.000 0.026 0.005 0.633] 9\n",
            "sortie attendue : [0.000 0.000 0.000 0.000 0.000 0.000 0.000 0.000 0.000 1.000] 9\n"
          ]
        },
        {
          "output_type": "display_data",
          "data": {
            "text/plain": [
              "<PIL.Image.Image image mode=L size=28x28 at 0x7FF91968D1F0>"
            ],
            "image/png": "[encoded data removed]"
          },
          "metadata": {}
        },
        {
          "output_type": "stream",
          "name": "stdout",
          "text": [
            "image 8\n",
            "sortie du réseau: [0.000 0.000 0.000 0.000 0.017 0.000 0.981 0.000 0.000 0.000] 6\n",
            "sortie attendue : [0.000 0.000 0.000 0.000 0.000 1.000 0.000 0.000 0.000 0.000] 5\n"
          ]
        },
        {
          "output_type": "display_data",
          "data": {
            "text/plain": [
              "<PIL.Image.Image image mode=L size=28x28 at 0x7FF91968D2E0>"
            ],
            "image/png": "[encoded data removed]"
          },
          "metadata": {}
        },
        {
          "output_type": "stream",
          "name": "stdout",
          "text": [
            "image 9\n",
            "sortie du réseau: [0.000 0.000 0.000 0.000 0.003 0.000 0.000 0.068 0.002 0.927] 9\n",
            "sortie attendue : [0.000 0.000 0.000 0.000 0.000 0.000 0.000 0.000 0.000 1.000] 9\n"
          ]
        },
        {
          "output_type": "display_data",
          "data": {
            "text/plain": [
              "<PIL.Image.Image image mode=L size=28x28 at 0x7FF91968D3A0>"
            ],
            "image/png": "[encoded data removed]"
          },
          "metadata": {}
        },
        {
          "output_type": "stream",
          "name": "stdout",
          "text": [
            "image 10\n",
            "sortie du réseau: [0.995 0.000 0.000 0.000 0.000 0.004 0.000 0.000 0.000 0.000] 0\n",
            "sortie attendue : [1.000 0.000 0.000 0.000 0.000 0.000 0.000 0.000 0.000 0.000] 0\n"
          ]
        },
        {
          "output_type": "display_data",
          "data": {
            "text/plain": [
              "<PIL.Image.Image image mode=L size=28x28 at 0x7FF91968D2B0>"
            ],
            "image/png": "[encoded data removed]"
          },
          "metadata": {}
        },
        {
          "output_type": "stream",
          "name": "stdout",
          "text": [
            "image 11\n",
            "sortie du réseau: [0.004 0.000 0.001 0.000 0.001 0.014 0.951 0.000 0.028 0.000] 6\n",
            "sortie attendue : [0.000 0.000 0.000 0.000 0.000 0.000 1.000 0.000 0.000 0.000] 6\n"
          ]
        },
        {
          "output_type": "display_data",
          "data": {
            "text/plain": [
              "<PIL.Image.Image image mode=L size=28x28 at 0x7FF91968D3D0>"
            ],
            "image/png": "[encoded data removed]"
          },
          "metadata": {}
        },
        {
          "output_type": "stream",
          "name": "stdout",
          "text": [
            "image 12\n",
            "sortie du réseau: [0.000 0.000 0.000 0.000 0.027 0.000 0.000 0.007 0.000 0.965] 9\n",
            "sortie attendue : [0.000 0.000 0.000 0.000 0.000 0.000 0.000 0.000 0.000 1.000] 9\n"
          ]
        },
        {
          "output_type": "display_data",
          "data": {
            "text/plain": [
              "<PIL.Image.Image image mode=L size=28x28 at 0x7FF91968D220>"
            ],
            "image/png": "[encoded data removed]"
          },
          "metadata": {}
        },
        {
          "output_type": "stream",
          "name": "stdout",
          "text": [
            "image 13\n",
            "sortie du réseau: [0.996 0.000 0.000 0.000 0.000 0.002 0.000 0.000 0.001 0.001] 0\n",
            "sortie attendue : [1.000 0.000 0.000 0.000 0.000 0.000 0.000 0.000 0.000 0.000] 0\n"
          ]
        },
        {
          "output_type": "display_data",
          "data": {
            "text/plain": [
              "<PIL.Image.Image image mode=L size=28x28 at 0x7FF91968D340>"
            ],
            "image/png": "[encoded data removed]"
          },
          "metadata": {}
        },
        {
          "output_type": "stream",
          "name": "stdout",
          "text": [
            "image 14\n",
            "sortie du réseau: [0.000 0.997 0.000 0.002 0.000 0.000 0.000 0.000 0.000 0.000] 1\n",
            "sortie attendue : [0.000 1.000 0.000 0.000 0.000 0.000 0.000 0.000 0.000 0.000] 1\n"
          ]
        },
        {
          "output_type": "display_data",
          "data": {
            "text/plain": [
              "<PIL.Image.Image image mode=L size=28x28 at 0x7FF91968D400>"
            ],
            "image/png": "[encoded data removed]"
          },
          "metadata": {}
        },
        {
          "output_type": "stream",
          "name": "stdout",
          "text": [
            "image 15\n",
            "sortie du réseau: [0.001 0.000 0.002 0.066 0.003 0.714 0.000 0.001 0.212 0.001] 5\n",
            "sortie attendue : [0.000 0.000 0.000 0.000 0.000 1.000 0.000 0.000 0.000 0.000] 5\n"
          ]
        },
        {
          "output_type": "display_data",
          "data": {
            "text/plain": [
              "<PIL.Image.Image image mode=L size=28x28 at 0x7FF91968D250>"
            ],
            "image/png": "[encoded data removed]"
          },
          "metadata": {}
        },
        {
          "output_type": "stream",
          "name": "stdout",
          "text": [
            "image 16\n",
            "sortie du réseau: [0.000 0.000 0.000 0.000 0.001 0.000 0.000 0.001 0.000 0.997] 9\n",
            "sortie attendue : [0.000 0.000 0.000 0.000 0.000 0.000 0.000 0.000 0.000 1.000] 9\n"
          ]
        },
        {
          "output_type": "display_data",
          "data": {
            "text/plain": [
              "<PIL.Image.Image image mode=L size=28x28 at 0x7FF91968D310>"
            ],
            "image/png": "[encoded data removed]"
          },
          "metadata": {}
        },
        {
          "output_type": "stream",
          "name": "stdout",
          "text": [
            "image 17\n",
            "sortie du réseau: [0.000 0.000 0.000 0.000 0.000 0.000 0.000 1.000 0.000 0.000] 7\n",
            "sortie attendue : [0.000 0.000 0.000 0.000 0.000 0.000 0.000 1.000 0.000 0.000] 7\n"
          ]
        },
        {
          "output_type": "display_data",
          "data": {
            "text/plain": [
              "<PIL.Image.Image image mode=L size=28x28 at 0x7FF91968D430>"
            ],
            "image/png": "[encoded data removed]"
          },
          "metadata": {}
        },
        {
          "output_type": "stream",
          "name": "stdout",
          "text": [
            "image 18\n",
            "sortie du réseau: [0.000 0.000 0.001 0.995 0.000 0.000 0.001 0.000 0.001 0.000] 3\n",
            "sortie attendue : [0.000 0.000 0.000 1.000 0.000 0.000 0.000 0.000 0.000 0.000] 3\n"
          ]
        },
        {
          "output_type": "display_data",
          "data": {
            "text/plain": [
              "<PIL.Image.Image image mode=L size=28x28 at 0x7FF91968D0A0>"
            ],
            "image/png": "[encoded data removed]"
          },
          "metadata": {}
        },
        {
          "output_type": "stream",
          "name": "stdout",
          "text": [
            "image 19\n",
            "sortie du réseau: [0.000 0.000 0.000 0.000 0.996 0.000 0.000 0.000 0.000 0.004] 4\n",
            "sortie attendue : [0.000 0.000 0.000 0.000 1.000 0.000 0.000 0.000 0.000 0.000] 4\n"
          ]
        },
        {
          "output_type": "display_data",
          "data": {
            "text/plain": [
              "<PIL.Image.Image image mode=L size=28x28 at 0x7FF91968D5E0>"
            ],
            "image/png": "[encoded data removed]"
          },
          "metadata": {}
        },
        {
          "output_type": "stream",
          "name": "stdout",
          "text": [
            "image 20\n",
            "sortie du réseau: [0.000 0.000 0.000 0.000 0.013 0.000 0.000 0.033 0.001 0.953] 9\n",
            "sortie attendue : [0.000 0.000 0.000 0.000 0.000 0.000 0.000 0.000 0.000 1.000] 9\n"
          ]
        },
        {
          "output_type": "display_data",
          "data": {
            "text/plain": [
              "<PIL.Image.Image image mode=L size=28x28 at 0x7FF91968D070>"
            ],
            "image/png": "[encoded data removed]"
          },
          "metadata": {}
        },
        {
          "output_type": "stream",
          "name": "stdout",
          "text": [
            "image 21\n",
            "sortie du réseau: [0.000 0.000 0.000 0.000 0.000 0.001 0.999 0.000 0.000 0.000] 6\n",
            "sortie attendue : [0.000 0.000 0.000 0.000 0.000 0.000 1.000 0.000 0.000 0.000] 6\n"
          ]
        },
        {
          "output_type": "display_data",
          "data": {
            "text/plain": [
              "<PIL.Image.Image image mode=L size=28x28 at 0x7FF91968D3A0>"
            ],
            "image/png": "[encoded data removed]"
          },
          "metadata": {}
        },
        {
          "output_type": "stream",
          "name": "stdout",
          "text": [
            "image 22\n",
            "sortie du réseau: [0.000 0.001 0.005 0.000 0.109 0.000 0.874 0.007 0.003 0.001] 6\n",
            "sortie attendue : [0.000 0.000 0.000 0.000 0.000 0.000 1.000 0.000 0.000 0.000] 6\n"
          ]
        },
        {
          "output_type": "display_data",
          "data": {
            "text/plain": [
              "<PIL.Image.Image image mode=L size=28x28 at 0x7FF91968D190>"
            ],
            "image/png": "[encoded data removed]"
          },
          "metadata": {}
        },
        {
          "output_type": "stream",
          "name": "stdout",
          "text": [
            "image 23\n",
            "sortie du réseau: [0.000 0.000 0.000 0.000 0.000 0.997 0.001 0.000 0.001 0.000] 5\n",
            "sortie attendue : [0.000 0.000 0.000 0.000 0.000 1.000 0.000 0.000 0.000 0.000] 5\n"
          ]
        },
        {
          "output_type": "display_data",
          "data": {
            "text/plain": [
              "<PIL.Image.Image image mode=L size=28x28 at 0x7FF91968D580>"
            ],
            "image/png": "[encoded data removed]"
          },
          "metadata": {}
        },
        {
          "output_type": "stream",
          "name": "stdout",
          "text": [
            "image 24\n",
            "sortie du réseau: [0.000 0.000 0.000 0.000 0.985 0.000 0.000 0.014 0.000 0.001] 4\n",
            "sortie attendue : [0.000 0.000 0.000 0.000 1.000 0.000 0.000 0.000 0.000 0.000] 4\n"
          ]
        },
        {
          "output_type": "display_data",
          "data": {
            "text/plain": [
              "<PIL.Image.Image image mode=L size=28x28 at 0x7FF91968D1C0>"
            ],
            "image/png": "[encoded data removed]"
          },
          "metadata": {}
        },
        {
          "output_type": "stream",
          "name": "stdout",
          "text": [
            "image 25\n",
            "sortie du réseau: [0.999 0.000 0.000 0.000 0.000 0.000 0.001 0.000 0.000 0.000] 0\n",
            "sortie attendue : [1.000 0.000 0.000 0.000 0.000 0.000 0.000 0.000 0.000 0.000] 0\n"
          ]
        },
        {
          "output_type": "display_data",
          "data": {
            "text/plain": [
              "<PIL.Image.Image image mode=L size=28x28 at 0x7FF91968D520>"
            ],
            "image/png": "[encoded data removed]"
          },
          "metadata": {}
        },
        {
          "output_type": "stream",
          "name": "stdout",
          "text": [
            "image 26\n",
            "sortie du réseau: [0.000 0.000 0.000 0.000 0.000 0.001 0.000 0.984 0.000 0.015] 7\n",
            "sortie attendue : [0.000 0.000 0.000 0.000 0.000 0.000 0.000 1.000 0.000 0.000] 7\n"
          ]
        },
        {
          "output_type": "display_data",
          "data": {
            "text/plain": [
              "<PIL.Image.Image image mode=L size=28x28 at 0x7FF91968D5B0>"
            ],
            "image/png": "[encoded data removed]"
          },
          "metadata": {}
        },
        {
          "output_type": "stream",
          "name": "stdout",
          "text": [
            "image 27\n",
            "sortie du réseau: [0.000 0.000 0.003 0.001 0.896 0.049 0.000 0.000 0.010 0.040] 4\n",
            "sortie attendue : [0.000 0.000 0.000 0.000 1.000 0.000 0.000 0.000 0.000 0.000] 4\n"
          ]
        },
        {
          "output_type": "display_data",
          "data": {
            "text/plain": [
              "<PIL.Image.Image image mode=L size=28x28 at 0x7FF91968D610>"
            ],
            "image/png": "[encoded data removed]"
          },
          "metadata": {}
        },
        {
          "output_type": "stream",
          "name": "stdout",
          "text": [
            "image 28\n",
            "sortie du réseau: [1.000 0.000 0.000 0.000 0.000 0.000 0.000 0.000 0.000 0.000] 0\n",
            "sortie attendue : [1.000 0.000 0.000 0.000 0.000 0.000 0.000 0.000 0.000 0.000] 0\n"
          ]
        },
        {
          "output_type": "display_data",
          "data": {
            "text/plain": [
              "<PIL.Image.Image image mode=L size=28x28 at 0x7FF91968D070>"
            ],
            "image/png": "[encoded data removed]"
          },
          "metadata": {}
        },
        {
          "output_type": "stream",
          "name": "stdout",
          "text": [
            "image 29\n",
            "sortie du réseau: [0.000 0.939 0.000 0.010 0.000 0.045 0.001 0.000 0.005 0.000] 1\n",
            "sortie attendue : [0.000 1.000 0.000 0.000 0.000 0.000 0.000 0.000 0.000 0.000] 1\n"
          ]
        },
        {
          "output_type": "display_data",
          "data": {
            "text/plain": [
              "<PIL.Image.Image image mode=L size=28x28 at 0x7FF91968D460>"
            ],
            "image/png": "[encoded data removed]"
          },
          "metadata": {}
        },
        {
          "output_type": "stream",
          "name": "stdout",
          "text": [
            "image 30\n",
            "sortie du réseau: [0.000 0.001 0.000 0.956 0.000 0.034 0.000 0.005 0.000 0.003] 3\n",
            "sortie attendue : [0.000 0.000 0.000 1.000 0.000 0.000 0.000 0.000 0.000 0.000] 3\n"
          ]
        },
        {
          "output_type": "display_data",
          "data": {
            "text/plain": [
              "<PIL.Image.Image image mode=L size=28x28 at 0x7FF91968D100>"
            ],
            "image/png": "[encoded data removed]"
          },
          "metadata": {}
        },
        {
          "output_type": "stream",
          "name": "stdout",
          "text": [
            "image 31\n",
            "sortie du réseau: [0.000 0.998 0.000 0.001 0.000 0.000 0.000 0.000 0.000 0.000] 1\n",
            "sortie attendue : [0.000 1.000 0.000 0.000 0.000 0.000 0.000 0.000 0.000 0.000] 1\n"
          ]
        },
        {
          "output_type": "display_data",
          "data": {
            "text/plain": [
              "<PIL.Image.Image image mode=L size=28x28 at 0x7FF91968D550>"
            ],
            "image/png": "[encoded data removed]"
          },
          "metadata": {}
        },
        {
          "output_type": "stream",
          "name": "stdout",
          "text": [
            "image 32\n",
            "sortie du réseau: [0.000 0.000 0.000 0.998 0.000 0.002 0.000 0.000 0.000 0.000] 3\n",
            "sortie attendue : [0.000 0.000 0.000 1.000 0.000 0.000 0.000 0.000 0.000 0.000] 3\n"
          ]
        },
        {
          "output_type": "display_data",
          "data": {
            "text/plain": [
              "<PIL.Image.Image image mode=L size=28x28 at 0x7FF91968D1F0>"
            ],
            "image/png": "[encoded data removed]"
          },
          "metadata": {}
        },
        {
          "output_type": "stream",
          "name": "stdout",
          "text": [
            "image 33\n",
            "sortie du réseau: [0.752 0.000 0.003 0.000 0.033 0.052 0.159 0.000 0.001 0.000] 0\n",
            "sortie attendue : [0.000 0.000 0.000 0.000 1.000 0.000 0.000 0.000 0.000 0.000] 4\n"
          ]
        },
        {
          "output_type": "display_data",
          "data": {
            "text/plain": [
              "<PIL.Image.Image image mode=L size=28x28 at 0x7FF91968D2E0>"
            ],
            "image/png": "[encoded data removed]"
          },
          "metadata": {}
        },
        {
          "output_type": "stream",
          "name": "stdout",
          "text": [
            "image 34\n",
            "sortie du réseau: [0.000 0.000 0.000 0.000 0.000 0.000 0.000 1.000 0.000 0.000] 7\n",
            "sortie attendue : [0.000 0.000 0.000 0.000 0.000 0.000 0.000 1.000 0.000 0.000] 7\n"
          ]
        },
        {
          "output_type": "display_data",
          "data": {
            "text/plain": [
              "<PIL.Image.Image image mode=L size=28x28 at 0x7FF91968D430>"
            ],
            "image/png": "[encoded data removed]"
          },
          "metadata": {}
        },
        {
          "output_type": "stream",
          "name": "stdout",
          "text": [
            "image 35\n",
            "sortie du réseau: [0.000 0.000 1.000 0.000 0.000 0.000 0.000 0.000 0.000 0.000] 2\n",
            "sortie attendue : [0.000 0.000 1.000 0.000 0.000 0.000 0.000 0.000 0.000 0.000] 2\n"
          ]
        },
        {
          "output_type": "display_data",
          "data": {
            "text/plain": [
              "<PIL.Image.Image image mode=L size=28x28 at 0x7FF91968D2B0>"
            ],
            "image/png": "[encoded data removed]"
          },
          "metadata": {}
        },
        {
          "output_type": "stream",
          "name": "stdout",
          "text": [
            "image 36\n",
            "sortie du réseau: [0.000 0.000 0.001 0.003 0.000 0.000 0.000 0.995 0.000 0.001] 7\n",
            "sortie attendue : [0.000 0.000 0.000 0.000 0.000 0.000 0.000 1.000 0.000 0.000] 7\n"
          ]
        },
        {
          "output_type": "display_data",
          "data": {
            "text/plain": [
              "<PIL.Image.Image image mode=L size=28x28 at 0x7FF91968D3D0>"
            ],
            "image/png": "[encoded data removed]"
          },
          "metadata": {}
        },
        {
          "output_type": "stream",
          "name": "stdout",
          "text": [
            "image 37\n",
            "sortie du réseau: [0.000 0.999 0.000 0.001 0.000 0.000 0.000 0.000 0.000 0.000] 1\n",
            "sortie attendue : [0.000 1.000 0.000 0.000 0.000 0.000 0.000 0.000 0.000 0.000] 1\n"
          ]
        },
        {
          "output_type": "display_data",
          "data": {
            "text/plain": [
              "<PIL.Image.Image image mode=L size=28x28 at 0x7FF91968D220>"
            ],
            "image/png": "[encoded data removed]"
          },
          "metadata": {}
        },
        {
          "output_type": "stream",
          "name": "stdout",
          "text": [
            "image 38\n",
            "sortie du réseau: [0.005 0.002 0.720 0.106 0.000 0.133 0.030 0.000 0.004 0.000] 2\n",
            "sortie attendue : [0.000 0.000 1.000 0.000 0.000 0.000 0.000 0.000 0.000 0.000] 2\n"
          ]
        },
        {
          "output_type": "display_data",
          "data": {
            "text/plain": [
              "<PIL.Image.Image image mode=L size=28x28 at 0x7FF91968D250>"
            ],
            "image/png": "[encoded data removed]"
          },
          "metadata": {}
        },
        {
          "output_type": "stream",
          "name": "stdout",
          "text": [
            "image 39\n",
            "sortie du réseau: [0.000 0.980 0.000 0.001 0.000 0.000 0.000 0.000 0.018 0.000] 1\n",
            "sortie attendue : [0.000 1.000 0.000 0.000 0.000 0.000 0.000 0.000 0.000 0.000] 1\n"
          ]
        },
        {
          "output_type": "display_data",
          "data": {
            "text/plain": [
              "<PIL.Image.Image image mode=L size=28x28 at 0x7FF91968D400>"
            ],
            "image/png": "[encoded data removed]"
          },
          "metadata": {}
        },
        {
          "output_type": "stream",
          "name": "stdout",
          "text": [
            "image 40\n",
            "sortie du réseau: [0.000 0.989 0.001 0.007 0.000 0.000 0.000 0.000 0.001 0.001] 1\n",
            "sortie attendue : [0.000 1.000 0.000 0.000 0.000 0.000 0.000 0.000 0.000 0.000] 1\n"
          ]
        },
        {
          "output_type": "display_data",
          "data": {
            "text/plain": [
              "<PIL.Image.Image image mode=L size=28x28 at 0x7FF91968D670>"
            ],
            "image/png": "[encoded data removed]"
          },
          "metadata": {}
        },
        {
          "output_type": "stream",
          "name": "stdout",
          "text": [
            "image 41\n",
            "sortie du réseau: [0.000 0.000 0.016 0.000 0.000 0.000 0.000 0.982 0.000 0.002] 7\n",
            "sortie attendue : [0.000 0.000 0.000 0.000 0.000 0.000 0.000 1.000 0.000 0.000] 7\n"
          ]
        },
        {
          "output_type": "display_data",
          "data": {
            "text/plain": [
              "<PIL.Image.Image image mode=L size=28x28 at 0x7FF91968D1C0>"
            ],
            "image/png": "[encoded data removed]"
          },
          "metadata": {}
        },
        {
          "output_type": "stream",
          "name": "stdout",
          "text": [
            "image 42\n",
            "sortie du réseau: [0.000 0.000 0.000 0.000 0.999 0.000 0.000 0.000 0.000 0.001] 4\n",
            "sortie attendue : [0.000 0.000 0.000 0.000 1.000 0.000 0.000 0.000 0.000 0.000] 4\n"
          ]
        },
        {
          "output_type": "display_data",
          "data": {
            "text/plain": [
              "<PIL.Image.Image image mode=L size=28x28 at 0x7FF91968D340>"
            ],
            "image/png": "[encoded data removed]"
          },
          "metadata": {}
        },
        {
          "output_type": "stream",
          "name": "stdout",
          "text": [
            "image 43\n",
            "sortie du réseau: [0.000 0.000 0.991 0.001 0.000 0.000 0.003 0.000 0.006 0.000] 2\n",
            "sortie attendue : [0.000 0.000 1.000 0.000 0.000 0.000 0.000 0.000 0.000 0.000] 2\n"
          ]
        },
        {
          "output_type": "display_data",
          "data": {
            "text/plain": [
              "<PIL.Image.Image image mode=L size=28x28 at 0x7FF91968D190>"
            ],
            "image/png": "[encoded data removed]"
          },
          "metadata": {}
        },
        {
          "output_type": "stream",
          "name": "stdout",
          "text": [
            "image 44\n",
            "sortie du réseau: [0.000 0.004 0.002 0.972 0.001 0.006 0.005 0.000 0.007 0.003] 3\n",
            "sortie attendue : [0.000 0.000 0.000 1.000 0.000 0.000 0.000 0.000 0.000 0.000] 3\n"
          ]
        },
        {
          "output_type": "display_data",
          "data": {
            "text/plain": [
              "<PIL.Image.Image image mode=L size=28x28 at 0x7FF91968D5E0>"
            ],
            "image/png": "[encoded data removed]"
          },
          "metadata": {}
        },
        {
          "output_type": "stream",
          "name": "stdout",
          "text": [
            "image 45\n",
            "sortie du réseau: [0.000 0.000 0.000 0.005 0.000 0.989 0.000 0.000 0.005 0.001] 5\n",
            "sortie attendue : [0.000 0.000 0.000 0.000 0.000 1.000 0.000 0.000 0.000 0.000] 5\n"
          ]
        },
        {
          "output_type": "display_data",
          "data": {
            "text/plain": [
              "<PIL.Image.Image image mode=L size=28x28 at 0x7FF91968D520>"
            ],
            "image/png": "[encoded data removed]"
          },
          "metadata": {}
        },
        {
          "output_type": "stream",
          "name": "stdout",
          "text": [
            "image 46\n",
            "sortie du réseau: [0.000 0.952 0.010 0.033 0.000 0.002 0.000 0.000 0.002 0.001] 1\n",
            "sortie attendue : [0.000 1.000 0.000 0.000 0.000 0.000 0.000 0.000 0.000 0.000] 1\n"
          ]
        },
        {
          "output_type": "display_data",
          "data": {
            "text/plain": [
              "<PIL.Image.Image image mode=L size=28x28 at 0x7FF91968D5B0>"
            ],
            "image/png": "[encoded data removed]"
          },
          "metadata": {}
        },
        {
          "output_type": "stream",
          "name": "stdout",
          "text": [
            "image 47\n",
            "sortie du réseau: [0.000 0.008 0.988 0.000 0.001 0.000 0.000 0.000 0.000 0.003] 2\n",
            "sortie attendue : [0.000 0.000 1.000 0.000 0.000 0.000 0.000 0.000 0.000 0.000] 2\n"
          ]
        },
        {
          "output_type": "display_data",
          "data": {
            "text/plain": [
              "<PIL.Image.Image image mode=L size=28x28 at 0x7FF91968D1C0>"
            ],
            "image/png": "[encoded data removed]"
          },
          "metadata": {}
        },
        {
          "output_type": "stream",
          "name": "stdout",
          "text": [
            "image 48\n",
            "sortie du réseau: [0.000 0.000 0.000 0.000 0.995 0.000 0.000 0.000 0.000 0.005] 4\n",
            "sortie attendue : [0.000 0.000 0.000 0.000 1.000 0.000 0.000 0.000 0.000 0.000] 4\n"
          ]
        },
        {
          "output_type": "display_data",
          "data": {
            "text/plain": [
              "<PIL.Image.Image image mode=L size=28x28 at 0x7FF91968D580>"
            ],
            "image/png": "[encoded data removed]"
          },
          "metadata": {}
        },
        {
          "output_type": "stream",
          "name": "stdout",
          "text": [
            "image 49\n",
            "sortie du réseau: [0.000 0.000 0.000 0.000 0.990 0.000 0.000 0.000 0.001 0.009] 4\n",
            "sortie attendue : [0.000 0.000 0.000 0.000 1.000 0.000 0.000 0.000 0.000 0.000] 4\n"
          ]
        },
        {
          "output_type": "display_data",
          "data": {
            "text/plain": [
              "<PIL.Image.Image image mode=L size=28x28 at 0x7FF91968D8E0>"
            ],
            "image/png": "[encoded data removed]"
          },
          "metadata": {}
        },
        {
          "output_type": "stream",
          "name": "stdout",
          "text": [
            "image 50\n",
            "sortie du réseau: [0.001 0.000 0.000 0.000 0.000 0.000 0.999 0.000 0.000 0.000] 6\n",
            "sortie attendue : [0.000 0.000 0.000 0.000 0.000 0.000 1.000 0.000 0.000 0.000] 6\n"
          ]
        },
        {
          "output_type": "display_data",
          "data": {
            "text/plain": [
              "<PIL.Image.Image image mode=L size=28x28 at 0x7FF91968D670>"
            ],
            "image/png": "[encoded data removed]"
          },
          "metadata": {}
        },
        {
          "output_type": "stream",
          "name": "stdout",
          "text": [
            "image 51\n",
            "sortie du réseau: [0.000 0.000 0.000 0.998 0.000 0.001 0.000 0.000 0.001 0.000] 3\n",
            "sortie attendue : [0.000 0.000 0.000 1.000 0.000 0.000 0.000 0.000 0.000 0.000] 3\n"
          ]
        },
        {
          "output_type": "display_data",
          "data": {
            "text/plain": [
              "<PIL.Image.Image image mode=L size=28x28 at 0x7FF91968D880>"
            ],
            "image/png": "[encoded data removed]"
          },
          "metadata": {}
        },
        {
          "output_type": "stream",
          "name": "stdout",
          "text": [
            "image 52\n",
            "sortie du réseau: [0.119 0.000 0.000 0.003 0.000 0.833 0.014 0.001 0.027 0.003] 5\n",
            "sortie attendue : [0.000 0.000 0.000 0.000 0.000 1.000 0.000 0.000 0.000 0.000] 5\n"
          ]
        },
        {
          "output_type": "display_data",
          "data": {
            "text/plain": [
              "<PIL.Image.Image image mode=L size=28x28 at 0x7FF91968D250>"
            ],
            "image/png": "[encoded data removed]"
          },
          "metadata": {}
        },
        {
          "output_type": "stream",
          "name": "stdout",
          "text": [
            "image 53\n",
            "sortie du réseau: [0.000 0.000 0.000 0.000 0.002 0.997 0.000 0.000 0.001 0.000] 5\n",
            "sortie attendue : [0.000 0.000 0.000 0.000 0.000 1.000 0.000 0.000 0.000 0.000] 5\n"
          ]
        },
        {
          "output_type": "display_data",
          "data": {
            "text/plain": [
              "<PIL.Image.Image image mode=L size=28x28 at 0x7FF91968D430>"
            ],
            "image/png": "[encoded data removed]"
          },
          "metadata": {}
        },
        {
          "output_type": "stream",
          "name": "stdout",
          "text": [
            "image 54\n",
            "sortie du réseau: [0.000 0.000 0.001 0.000 0.001 0.000 0.996 0.000 0.002 0.000] 6\n",
            "sortie attendue : [0.000 0.000 0.000 0.000 0.000 0.000 1.000 0.000 0.000 0.000] 6\n"
          ]
        },
        {
          "output_type": "display_data",
          "data": {
            "text/plain": [
              "<PIL.Image.Image image mode=L size=28x28 at 0x7FF91968D3D0>"
            ],
            "image/png": "[encoded data removed]"
          },
          "metadata": {}
        },
        {
          "output_type": "stream",
          "name": "stdout",
          "text": [
            "image 55\n",
            "sortie du réseau: [0.972 0.000 0.000 0.000 0.000 0.018 0.000 0.000 0.009 0.000] 0\n",
            "sortie attendue : [1.000 0.000 0.000 0.000 0.000 0.000 0.000 0.000 0.000 0.000] 0\n"
          ]
        },
        {
          "output_type": "display_data",
          "data": {
            "text/plain": [
              "<PIL.Image.Image image mode=L size=28x28 at 0x7FF91968D310>"
            ],
            "image/png": "[encoded data removed]"
          },
          "metadata": {}
        },
        {
          "output_type": "stream",
          "name": "stdout",
          "text": [
            "image 56\n",
            "sortie du réseau: [0.000 0.000 0.000 0.000 0.996 0.000 0.001 0.000 0.001 0.001] 4\n",
            "sortie attendue : [0.000 0.000 0.000 0.000 1.000 0.000 0.000 0.000 0.000 0.000] 4\n"
          ]
        },
        {
          "output_type": "display_data",
          "data": {
            "text/plain": [
              "<PIL.Image.Image image mode=L size=28x28 at 0x7FF91968D6A0>"
            ],
            "image/png": "[encoded data removed]"
          },
          "metadata": {}
        },
        {
          "output_type": "stream",
          "name": "stdout",
          "text": [
            "image 57\n",
            "sortie du réseau: [0.000 0.969 0.026 0.001 0.000 0.000 0.000 0.001 0.002 0.000] 1\n",
            "sortie attendue : [0.000 1.000 0.000 0.000 0.000 0.000 0.000 0.000 0.000 0.000] 1\n"
          ]
        },
        {
          "output_type": "display_data",
          "data": {
            "text/plain": [
              "<PIL.Image.Image image mode=L size=28x28 at 0x7FF91968D610>"
            ],
            "image/png": "[encoded data removed]"
          },
          "metadata": {}
        },
        {
          "output_type": "stream",
          "name": "stdout",
          "text": [
            "image 58\n",
            "sortie du réseau: [0.000 0.000 0.000 0.000 0.002 0.000 0.000 0.002 0.000 0.997] 9\n",
            "sortie attendue : [0.000 0.000 0.000 0.000 0.000 0.000 0.000 0.000 0.000 1.000] 9\n"
          ]
        },
        {
          "output_type": "display_data",
          "data": {
            "text/plain": [
              "<PIL.Image.Image image mode=L size=28x28 at 0x7FF91968D5B0>"
            ],
            "image/png": "[encoded data removed]"
          },
          "metadata": {}
        },
        {
          "output_type": "stream",
          "name": "stdout",
          "text": [
            "image 59\n",
            "sortie du réseau: [0.004 0.000 0.001 0.002 0.004 0.978 0.000 0.006 0.003 0.002] 5\n",
            "sortie attendue : [0.000 0.000 0.000 0.000 0.000 1.000 0.000 0.000 0.000 0.000] 5\n"
          ]
        },
        {
          "output_type": "display_data",
          "data": {
            "text/plain": [
              "<PIL.Image.Image image mode=L size=28x28 at 0x7FF91968D1C0>"
            ],
            "image/png": "[encoded data removed]"
          },
          "metadata": {}
        },
        {
          "output_type": "stream",
          "name": "stdout",
          "text": [
            "image 60\n",
            "sortie du réseau: [0.000 0.000 0.000 0.001 0.000 0.000 0.000 0.999 0.000 0.001] 7\n",
            "sortie attendue : [0.000 0.000 0.000 0.000 0.000 0.000 0.000 1.000 0.000 0.000] 7\n"
          ]
        },
        {
          "output_type": "display_data",
          "data": {
            "text/plain": [
              "<PIL.Image.Image image mode=L size=28x28 at 0x7FF91968D580>"
            ],
            "image/png": "[encoded data removed]"
          },
          "metadata": {}
        },
        {
          "output_type": "stream",
          "name": "stdout",
          "text": [
            "image 61\n",
            "sortie du réseau: [0.000 0.000 0.065 0.000 0.000 0.001 0.009 0.000 0.912 0.012] 8\n",
            "sortie attendue : [0.000 0.000 0.000 0.000 0.000 0.000 0.000 0.000 1.000 0.000] 8\n"
          ]
        },
        {
          "output_type": "display_data",
          "data": {
            "text/plain": [
              "<PIL.Image.Image image mode=L size=28x28 at 0x7FF91968D8E0>"
            ],
            "image/png": "[encoded data removed]"
          },
          "metadata": {}
        },
        {
          "output_type": "stream",
          "name": "stdout",
          "text": [
            "image 62\n",
            "sortie du réseau: [0.000 0.022 0.003 0.009 0.147 0.338 0.055 0.004 0.086 0.337] 5\n",
            "sortie attendue : [0.000 0.000 0.000 0.000 0.000 0.000 0.000 0.000 0.000 1.000] 9\n"
          ]
        },
        {
          "output_type": "display_data",
          "data": {
            "text/plain": [
              "<PIL.Image.Image image mode=L size=28x28 at 0x7FF91968D1F0>"
            ],
            "image/png": "[encoded data removed]"
          },
          "metadata": {}
        },
        {
          "output_type": "stream",
          "name": "stdout",
          "text": [
            "image 63\n",
            "sortie du réseau: [0.000 0.041 0.441 0.295 0.003 0.004 0.003 0.000 0.210 0.003] 2\n",
            "sortie attendue : [0.000 0.000 0.000 1.000 0.000 0.000 0.000 0.000 0.000 0.000] 3\n"
          ]
        },
        {
          "output_type": "display_data",
          "data": {
            "text/plain": [
              "<PIL.Image.Image image mode=L size=28x28 at 0x7FF91968D880>"
            ],
            "image/png": "[encoded data removed]"
          },
          "metadata": {}
        },
        {
          "output_type": "stream",
          "name": "stdout",
          "text": [
            "image 64\n",
            "sortie du réseau: [0.000 0.000 0.006 0.001 0.000 0.000 0.000 0.992 0.000 0.000] 7\n",
            "sortie attendue : [0.000 0.000 0.000 0.000 0.000 0.000 0.000 1.000 0.000 0.000] 7\n"
          ]
        },
        {
          "output_type": "display_data",
          "data": {
            "text/plain": [
              "<PIL.Image.Image image mode=L size=28x28 at 0x7FF91968D3D0>"
            ],
            "image/png": "[encoded data removed]"
          },
          "metadata": {}
        },
        {
          "output_type": "stream",
          "name": "stdout",
          "text": [
            "image 65\n",
            "sortie du réseau: [0.000 0.001 0.000 0.007 0.896 0.010 0.021 0.000 0.001 0.064] 4\n",
            "sortie attendue : [0.000 0.000 0.000 0.000 1.000 0.000 0.000 0.000 0.000 0.000] 4\n"
          ]
        },
        {
          "output_type": "display_data",
          "data": {
            "text/plain": [
              "<PIL.Image.Image image mode=L size=28x28 at 0x7FF91968D430>"
            ],
            "image/png": "[encoded data removed]"
          },
          "metadata": {}
        },
        {
          "output_type": "stream",
          "name": "stdout",
          "text": [
            "image 66\n",
            "sortie du réseau: [0.000 0.010 0.334 0.003 0.012 0.005 0.617 0.015 0.001 0.004] 6\n",
            "sortie attendue : [0.000 0.000 0.000 0.000 0.000 0.000 1.000 0.000 0.000 0.000] 6\n"
          ]
        },
        {
          "output_type": "display_data",
          "data": {
            "text/plain": [
              "<PIL.Image.Image image mode=L size=28x28 at 0x7FF91968D6A0>"
            ],
            "image/png": "[encoded data removed]"
          },
          "metadata": {}
        },
        {
          "output_type": "stream",
          "name": "stdout",
          "text": [
            "image 67\n",
            "sortie du réseau: [0.000 0.000 0.000 0.000 0.999 0.000 0.000 0.000 0.000 0.001] 4\n",
            "sortie attendue : [0.000 0.000 0.000 0.000 1.000 0.000 0.000 0.000 0.000 0.000] 4\n"
          ]
        },
        {
          "output_type": "display_data",
          "data": {
            "text/plain": [
              "<PIL.Image.Image image mode=L size=28x28 at 0x7FF91968D310>"
            ],
            "image/png": "[encoded data removed]"
          },
          "metadata": {}
        },
        {
          "output_type": "stream",
          "name": "stdout",
          "text": [
            "image 68\n",
            "sortie du réseau: [0.000 0.000 0.000 0.997 0.000 0.000 0.000 0.000 0.002 0.001] 3\n",
            "sortie attendue : [0.000 0.000 0.000 1.000 0.000 0.000 0.000 0.000 0.000 0.000] 3\n"
          ]
        },
        {
          "output_type": "display_data",
          "data": {
            "text/plain": [
              "<PIL.Image.Image image mode=L size=28x28 at 0x7FF91968D670>"
            ],
            "image/png": "[encoded data removed]"
          },
          "metadata": {}
        },
        {
          "output_type": "stream",
          "name": "stdout",
          "text": [
            "image 69\n",
            "sortie du réseau: [0.998 0.000 0.001 0.000 0.000 0.001 0.000 0.000 0.000 0.000] 0\n",
            "sortie attendue : [1.000 0.000 0.000 0.000 0.000 0.000 0.000 0.000 0.000 0.000] 0\n"
          ]
        },
        {
          "output_type": "display_data",
          "data": {
            "text/plain": [
              "<PIL.Image.Image image mode=L size=28x28 at 0x7FF91968D880>"
            ],
            "image/png": "[encoded data removed]"
          },
          "metadata": {}
        },
        {
          "output_type": "stream",
          "name": "stdout",
          "text": [
            "image 70\n",
            "sortie du réseau: [0.000 0.000 0.000 0.000 0.000 0.000 0.000 1.000 0.000 0.000] 7\n",
            "sortie attendue : [0.000 0.000 0.000 0.000 0.000 0.000 0.000 1.000 0.000 0.000] 7\n"
          ]
        },
        {
          "output_type": "display_data",
          "data": {
            "text/plain": [
              "<PIL.Image.Image image mode=L size=28x28 at 0x7FF91968D5B0>"
            ],
            "image/png": "[encoded data removed]"
          },
          "metadata": {}
        },
        {
          "output_type": "stream",
          "name": "stdout",
          "text": [
            "image 71\n",
            "sortie du réseau: [1.000 0.000 0.000 0.000 0.000 0.000 0.000 0.000 0.000 0.000] 0\n",
            "sortie attendue : [1.000 0.000 0.000 0.000 0.000 0.000 0.000 0.000 0.000 0.000] 0\n"
          ]
        },
        {
          "output_type": "display_data",
          "data": {
            "text/plain": [
              "<PIL.Image.Image image mode=L size=28x28 at 0x7FF91968D610>"
            ],
            "image/png": "[encoded data removed]"
          },
          "metadata": {}
        },
        {
          "output_type": "stream",
          "name": "stdout",
          "text": [
            "image 72\n",
            "sortie du réseau: [0.003 0.000 0.955 0.041 0.000 0.000 0.000 0.000 0.001 0.000] 2\n",
            "sortie attendue : [0.000 0.000 1.000 0.000 0.000 0.000 0.000 0.000 0.000 0.000] 2\n"
          ]
        },
        {
          "output_type": "display_data",
          "data": {
            "text/plain": [
              "<PIL.Image.Image image mode=L size=28x28 at 0x7FF91968D580>"
            ],
            "image/png": "[encoded data removed]"
          },
          "metadata": {}
        },
        {
          "output_type": "stream",
          "name": "stdout",
          "text": [
            "image 73\n",
            "sortie du réseau: [0.001 0.000 0.010 0.020 0.000 0.001 0.000 0.307 0.026 0.636] 9\n",
            "sortie attendue : [0.000 0.000 0.000 0.000 0.000 0.000 0.000 0.000 0.000 1.000] 9\n"
          ]
        },
        {
          "output_type": "display_data",
          "data": {
            "text/plain": [
              "<PIL.Image.Image image mode=L size=28x28 at 0x7FF91968D1C0>"
            ],
            "image/png": "[encoded data removed]"
          },
          "metadata": {}
        },
        {
          "output_type": "stream",
          "name": "stdout",
          "text": [
            "image 74\n",
            "sortie du réseau: [0.000 0.998 0.000 0.000 0.000 0.000 0.000 0.000 0.001 0.000] 1\n",
            "sortie attendue : [0.000 1.000 0.000 0.000 0.000 0.000 0.000 0.000 0.000 0.000] 1\n"
          ]
        },
        {
          "output_type": "display_data",
          "data": {
            "text/plain": [
              "<PIL.Image.Image image mode=L size=28x28 at 0x7FF91968D1F0>"
            ],
            "image/png": "[encoded data removed]"
          },
          "metadata": {}
        },
        {
          "output_type": "stream",
          "name": "stdout",
          "text": [
            "image 75\n",
            "sortie du réseau: [0.000 0.000 0.000 0.001 0.001 0.000 0.000 0.997 0.000 0.001] 7\n",
            "sortie attendue : [0.000 0.000 0.000 0.000 0.000 0.000 0.000 1.000 0.000 0.000] 7\n"
          ]
        },
        {
          "output_type": "display_data",
          "data": {
            "text/plain": [
              "<PIL.Image.Image image mode=L size=28x28 at 0x7FF91968D3A0>"
            ],
            "image/png": "[encoded data removed]"
          },
          "metadata": {}
        },
        {
          "output_type": "stream",
          "name": "stdout",
          "text": [
            "image 76\n",
            "sortie du réseau: [0.000 0.000 0.000 0.990 0.000 0.005 0.000 0.000 0.006 0.000] 3\n",
            "sortie attendue : [0.000 0.000 0.000 1.000 0.000 0.000 0.000 0.000 0.000 0.000] 3\n"
          ]
        },
        {
          "output_type": "display_data",
          "data": {
            "text/plain": [
              "<PIL.Image.Image image mode=L size=28x28 at 0x7FF91968D3D0>"
            ],
            "image/png": "[encoded data removed]"
          },
          "metadata": {}
        },
        {
          "output_type": "stream",
          "name": "stdout",
          "text": [
            "image 77\n",
            "sortie du réseau: [0.000 0.000 0.989 0.000 0.000 0.000 0.000 0.006 0.003 0.000] 2\n",
            "sortie attendue : [0.000 0.000 1.000 0.000 0.000 0.000 0.000 0.000 0.000 0.000] 2\n"
          ]
        },
        {
          "output_type": "display_data",
          "data": {
            "text/plain": [
              "<PIL.Image.Image image mode=L size=28x28 at 0x7FF91968D430>"
            ],
            "image/png": "[encoded data removed]"
          },
          "metadata": {}
        },
        {
          "output_type": "stream",
          "name": "stdout",
          "text": [
            "image 78\n",
            "sortie du réseau: [0.000 0.000 0.000 0.002 0.021 0.000 0.000 0.003 0.041 0.933] 9\n",
            "sortie attendue : [0.000 0.000 0.000 0.000 0.000 0.000 0.000 0.000 0.000 1.000] 9\n"
          ]
        },
        {
          "output_type": "display_data",
          "data": {
            "text/plain": [
              "<PIL.Image.Image image mode=L size=28x28 at 0x7FF91968D6A0>"
            ],
            "image/png": "[encoded data removed]"
          },
          "metadata": {}
        },
        {
          "output_type": "stream",
          "name": "stdout",
          "text": [
            "image 79\n",
            "sortie du réseau: [0.000 0.000 0.000 0.000 0.000 0.000 0.000 0.998 0.000 0.002] 7\n",
            "sortie attendue : [0.000 0.000 0.000 0.000 0.000 0.000 0.000 1.000 0.000 0.000] 7\n"
          ]
        },
        {
          "output_type": "display_data",
          "data": {
            "text/plain": [
              "<PIL.Image.Image image mode=L size=28x28 at 0x7FF91968D310>"
            ],
            "image/png": "[encoded data removed]"
          },
          "metadata": {}
        },
        {
          "output_type": "stream",
          "name": "stdout",
          "text": [
            "image 80\n",
            "sortie du réseau: [0.000 0.000 0.000 0.001 0.001 0.000 0.000 0.662 0.000 0.336] 7\n",
            "sortie attendue : [0.000 0.000 0.000 0.000 0.000 0.000 0.000 1.000 0.000 0.000] 7\n"
          ]
        },
        {
          "output_type": "display_data",
          "data": {
            "text/plain": [
              "<PIL.Image.Image image mode=L size=28x28 at 0x7FF91968D670>"
            ],
            "image/png": "[encoded data removed]"
          },
          "metadata": {}
        },
        {
          "output_type": "stream",
          "name": "stdout",
          "text": [
            "image 81\n",
            "sortie du réseau: [0.000 0.000 0.001 0.000 0.000 0.016 0.982 0.000 0.000 0.000] 6\n",
            "sortie attendue : [0.000 0.000 0.000 0.000 0.000 0.000 1.000 0.000 0.000 0.000] 6\n"
          ]
        },
        {
          "output_type": "display_data",
          "data": {
            "text/plain": [
              "<PIL.Image.Image image mode=L size=28x28 at 0x7FF91968D880>"
            ],
            "image/png": "[encoded data removed]"
          },
          "metadata": {}
        },
        {
          "output_type": "stream",
          "name": "stdout",
          "text": [
            "image 82\n",
            "sortie du réseau: [0.000 0.000 1.000 0.000 0.000 0.000 0.000 0.000 0.000 0.000] 2\n",
            "sortie attendue : [0.000 0.000 1.000 0.000 0.000 0.000 0.000 0.000 0.000 0.000] 2\n"
          ]
        },
        {
          "output_type": "display_data",
          "data": {
            "text/plain": [
              "<PIL.Image.Image image mode=L size=28x28 at 0x7FF91968D5B0>"
            ],
            "image/png": "[encoded data removed]"
          },
          "metadata": {}
        },
        {
          "output_type": "stream",
          "name": "stdout",
          "text": [
            "image 83\n",
            "sortie du réseau: [0.000 0.000 0.000 0.000 0.000 0.000 0.000 0.988 0.000 0.012] 7\n",
            "sortie attendue : [0.000 0.000 0.000 0.000 0.000 0.000 0.000 1.000 0.000 0.000] 7\n"
          ]
        },
        {
          "output_type": "display_data",
          "data": {
            "text/plain": [
              "<PIL.Image.Image image mode=L size=28x28 at 0x7FF91968D610>"
            ],
            "image/png": "[encoded data removed]"
          },
          "metadata": {}
        },
        {
          "output_type": "stream",
          "name": "stdout",
          "text": [
            "image 84\n",
            "sortie du réseau: [0.000 0.000 0.000 0.000 0.004 0.094 0.000 0.000 0.900 0.001] 8\n",
            "sortie attendue : [0.000 0.000 0.000 0.000 0.000 0.000 0.000 0.000 1.000 0.000] 8\n"
          ]
        },
        {
          "output_type": "display_data",
          "data": {
            "text/plain": [
              "<PIL.Image.Image image mode=L size=28x28 at 0x7FF91968D580>"
            ],
            "image/png": "[encoded data removed]"
          },
          "metadata": {}
        },
        {
          "output_type": "stream",
          "name": "stdout",
          "text": [
            "image 85\n",
            "sortie du réseau: [0.000 0.000 0.000 0.000 1.000 0.000 0.000 0.000 0.000 0.000] 4\n",
            "sortie attendue : [0.000 0.000 0.000 0.000 1.000 0.000 0.000 0.000 0.000 0.000] 4\n"
          ]
        },
        {
          "output_type": "display_data",
          "data": {
            "text/plain": [
              "<PIL.Image.Image image mode=L size=28x28 at 0x7FF91968D1C0>"
            ],
            "image/png": "[encoded data removed]"
          },
          "metadata": {}
        },
        {
          "output_type": "stream",
          "name": "stdout",
          "text": [
            "image 86\n",
            "sortie du réseau: [0.000 0.000 0.000 0.000 0.000 0.000 0.000 1.000 0.000 0.000] 7\n",
            "sortie attendue : [0.000 0.000 0.000 0.000 0.000 0.000 0.000 1.000 0.000 0.000] 7\n"
          ]
        },
        {
          "output_type": "display_data",
          "data": {
            "text/plain": [
              "<PIL.Image.Image image mode=L size=28x28 at 0x7FF91968D250>"
            ],
            "image/png": "[encoded data removed]"
          },
          "metadata": {}
        },
        {
          "output_type": "stream",
          "name": "stdout",
          "text": [
            "image 87\n",
            "sortie du réseau: [0.000 0.000 0.000 0.759 0.016 0.215 0.002 0.001 0.002 0.005] 3\n",
            "sortie attendue : [0.000 0.000 0.000 1.000 0.000 0.000 0.000 0.000 0.000 0.000] 3\n"
          ]
        },
        {
          "output_type": "display_data",
          "data": {
            "text/plain": [
              "<PIL.Image.Image image mode=L size=28x28 at 0x7FF91968D0D0>"
            ],
            "image/png": "[encoded data removed]"
          },
          "metadata": {}
        },
        {
          "output_type": "stream",
          "name": "stdout",
          "text": [
            "image 88\n",
            "sortie du réseau: [0.000 0.000 0.000 0.000 0.001 0.000 0.999 0.000 0.000 0.000] 6\n",
            "sortie attendue : [0.000 0.000 0.000 0.000 0.000 0.000 1.000 0.000 0.000 0.000] 6\n"
          ]
        },
        {
          "output_type": "display_data",
          "data": {
            "text/plain": [
              "<PIL.Image.Image image mode=L size=28x28 at 0x7FF91968D760>"
            ],
            "image/png": "[encoded data removed]"
          },
          "metadata": {}
        },
        {
          "output_type": "stream",
          "name": "stdout",
          "text": [
            "image 89\n",
            "sortie du réseau: [0.000 0.997 0.001 0.001 0.000 0.000 0.000 0.000 0.001 0.000] 1\n",
            "sortie attendue : [0.000 1.000 0.000 0.000 0.000 0.000 0.000 0.000 0.000 0.000] 1\n"
          ]
        },
        {
          "output_type": "display_data",
          "data": {
            "text/plain": [
              "<PIL.Image.Image image mode=L size=28x28 at 0x7FF91968D550>"
            ],
            "image/png": "[encoded data removed]"
          },
          "metadata": {}
        },
        {
          "output_type": "stream",
          "name": "stdout",
          "text": [
            "image 90\n",
            "sortie du réseau: [0.000 0.000 0.001 0.841 0.000 0.016 0.000 0.001 0.007 0.135] 3\n",
            "sortie attendue : [0.000 0.000 0.000 1.000 0.000 0.000 0.000 0.000 0.000 0.000] 3\n"
          ]
        },
        {
          "output_type": "display_data",
          "data": {
            "text/plain": [
              "<PIL.Image.Image image mode=L size=28x28 at 0x7FF91968D670>"
            ],
            "image/png": "[encoded data removed]"
          },
          "metadata": {}
        },
        {
          "output_type": "stream",
          "name": "stdout",
          "text": [
            "image 91\n",
            "sortie du réseau: [0.000 0.000 0.000 0.000 0.000 0.000 1.000 0.000 0.000 0.000] 6\n",
            "sortie attendue : [0.000 0.000 0.000 0.000 0.000 0.000 1.000 0.000 0.000 0.000] 6\n"
          ]
        },
        {
          "output_type": "display_data",
          "data": {
            "text/plain": [
              "<PIL.Image.Image image mode=L size=28x28 at 0x7FF91968D310>"
            ],
            "image/png": "[encoded data removed]"
          },
          "metadata": {}
        },
        {
          "output_type": "stream",
          "name": "stdout",
          "text": [
            "image 92\n",
            "sortie du réseau: [0.000 0.000 0.000 0.002 0.331 0.013 0.000 0.006 0.286 0.362] 9\n",
            "sortie attendue : [0.000 0.000 0.000 0.000 0.000 0.000 0.000 0.000 0.000 1.000] 9\n"
          ]
        },
        {
          "output_type": "display_data",
          "data": {
            "text/plain": [
              "<PIL.Image.Image image mode=L size=28x28 at 0x7FF91968D4C0>"
            ],
            "image/png": "[encoded data removed]"
          },
          "metadata": {}
        },
        {
          "output_type": "stream",
          "name": "stdout",
          "text": [
            "image 93\n",
            "sortie du réseau: [0.000 0.000 0.000 0.988 0.000 0.001 0.000 0.002 0.006 0.003] 3\n",
            "sortie attendue : [0.000 0.000 0.000 1.000 0.000 0.000 0.000 0.000 0.000 0.000] 3\n"
          ]
        },
        {
          "output_type": "display_data",
          "data": {
            "text/plain": [
              "<PIL.Image.Image image mode=L size=28x28 at 0x7FF91968D070>"
            ],
            "image/png": "[encoded data removed]"
          },
          "metadata": {}
        },
        {
          "output_type": "stream",
          "name": "stdout",
          "text": [
            "image 94\n",
            "sortie du réseau: [0.000 0.932 0.000 0.000 0.000 0.000 0.000 0.000 0.067 0.000] 1\n",
            "sortie attendue : [0.000 1.000 0.000 0.000 0.000 0.000 0.000 0.000 0.000 0.000] 1\n"
          ]
        },
        {
          "output_type": "display_data",
          "data": {
            "text/plain": [
              "<PIL.Image.Image image mode=L size=28x28 at 0x7FF91968D820>"
            ],
            "image/png": "[encoded data removed]"
          },
          "metadata": {}
        },
        {
          "output_type": "stream",
          "name": "stdout",
          "text": [
            "image 95\n",
            "sortie du réseau: [0.000 0.000 0.000 0.000 0.970 0.000 0.000 0.000 0.001 0.029] 4\n",
            "sortie attendue : [0.000 0.000 0.000 0.000 1.000 0.000 0.000 0.000 0.000 0.000] 4\n"
          ]
        },
        {
          "output_type": "display_data",
          "data": {
            "text/plain": [
              "<PIL.Image.Image image mode=L size=28x28 at 0x7FF91968D880>"
            ],
            "image/png": "[encoded data removed]"
          },
          "metadata": {}
        },
        {
          "output_type": "stream",
          "name": "stdout",
          "text": [
            "image 96\n",
            "sortie du réseau: [0.000 0.998 0.000 0.000 0.000 0.000 0.000 0.000 0.000 0.000] 1\n",
            "sortie attendue : [0.000 1.000 0.000 0.000 0.000 0.000 0.000 0.000 0.000 0.000] 1\n"
          ]
        },
        {
          "output_type": "display_data",
          "data": {
            "text/plain": [
              "<PIL.Image.Image image mode=L size=28x28 at 0x7FF91968D220>"
            ],
            "image/png": "[encoded data removed]"
          },
          "metadata": {}
        },
        {
          "output_type": "stream",
          "name": "stdout",
          "text": [
            "image 97\n",
            "sortie du réseau: [0.000 0.002 0.001 0.003 0.019 0.000 0.000 0.964 0.009 0.002] 7\n",
            "sortie attendue : [0.000 0.000 0.000 0.000 0.000 0.000 0.000 1.000 0.000 0.000] 7\n"
          ]
        },
        {
          "output_type": "display_data",
          "data": {
            "text/plain": [
              "<PIL.Image.Image image mode=L size=28x28 at 0x7FF91968D1F0>"
            ],
            "image/png": "[encoded data removed]"
          },
          "metadata": {}
        },
        {
          "output_type": "stream",
          "name": "stdout",
          "text": [
            "image 98\n",
            "sortie du réseau: [0.000 0.000 0.001 0.000 0.000 0.000 0.999 0.000 0.000 0.000] 6\n",
            "sortie attendue : [0.000 0.000 0.000 0.000 0.000 0.000 1.000 0.000 0.000 0.000] 6\n"
          ]
        },
        {
          "output_type": "display_data",
          "data": {
            "text/plain": [
              "<PIL.Image.Image image mode=L size=28x28 at 0x7FF91968D3D0>"
            ],
            "image/png": "[encoded data removed]"
          },
          "metadata": {}
        },
        {
          "output_type": "stream",
          "name": "stdout",
          "text": [
            "image 99\n",
            "sortie du réseau: [0.000 0.000 0.000 0.000 0.000 0.000 0.000 0.000 0.000 0.999] 9\n",
            "sortie attendue : [0.000 0.000 0.000 0.000 0.000 0.000 0.000 0.000 0.000 1.000] 9\n"
          ]
        },
        {
          "output_type": "display_data",
          "data": {
            "text/plain": [
              "<PIL.Image.Image image mode=L size=28x28 at 0x7FF91968D760>"
            ],
            "image/png": "[encoded data removed]"
          },
          "metadata": {}
        }
      ]
    }
  ]
}